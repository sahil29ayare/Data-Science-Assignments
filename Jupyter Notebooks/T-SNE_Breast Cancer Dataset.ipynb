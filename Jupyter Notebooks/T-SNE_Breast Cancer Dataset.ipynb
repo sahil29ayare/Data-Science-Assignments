{
 "cells": [
  {
   "cell_type": "markdown",
   "id": "bf8ec92c-06e6-476d-afb1-5aa2dc45ae78",
   "metadata": {},
   "source": [
    "## T-SNE ASSIGNMENT | Breast Cancer Dataset"
   ]
  },
  {
   "cell_type": "markdown",
   "id": "33564f1e-b433-4833-8151-c0d29848d330",
   "metadata": {},
   "source": [
    "## Introduction of the Dataset"
   ]
  },
  {
   "cell_type": "markdown",
   "id": "b79088b8-5058-4fde-b941-de556a563d08",
   "metadata": {},
   "source": [
    "The Breast Cancer Gene Expression - CuMiDa dataset contains gene expression data for 151 samples with 54,677 features. Each feature represents a specific gene's expression level, making this a high-dimensional dataset ideal for exploring dimensionality reduction techniques like t-SNE. The dataset aims to distinguish between different breast cancer types or states based on gene expression profiles, providing valuable insights into the underlying biological mechanisms.\n",
    "\n",
    "- The dataset is designed to analyze and distinguish between different breast cancer types or conditions based on gene expression profiles.\n",
    "Challenges.\n",
    "- The large number of features compared to the small sample size presents challenges such as potential overfitting and the need for robust dimensionality reduction.\n",
    "- The dataset includes both numerical (float64) and categorical (int64, object) data types, which will require preprocessing before applying t-SNE.\n",
    "- This dataset is valuable for understanding the genetic underpinnings of breast cancer, aiding in diagnosis, prognosis, and treatment research."
   ]
  },
  {
   "cell_type": "markdown",
   "id": "aa7ad770-bb48-4aab-9cdc-2a37d14a4ce7",
   "metadata": {},
   "source": [
    "## Import Libraries"
   ]
  },
  {
   "cell_type": "code",
   "execution_count": 46,
   "id": "e723214d-ae54-4fd6-bdca-153950c71b35",
   "metadata": {},
   "outputs": [],
   "source": [
    "import numpy as np\n",
    "import pandas as pd\n",
    "import seaborn as sns\n",
    "import matplotlib.pyplot as plt"
   ]
  },
  {
   "cell_type": "markdown",
   "id": "5993b609-df9a-4c9d-b9a1-e737ed6e629e",
   "metadata": {},
   "source": [
    "## Load the dataset"
   ]
  },
  {
   "cell_type": "code",
   "execution_count": 47,
   "id": "603c53eb-cca4-4e99-a63d-80d1640b530d",
   "metadata": {},
   "outputs": [
    {
     "data": {
      "text/html": [
       "<div>\n",
       "<style scoped>\n",
       "    .dataframe tbody tr th:only-of-type {\n",
       "        vertical-align: middle;\n",
       "    }\n",
       "\n",
       "    .dataframe tbody tr th {\n",
       "        vertical-align: top;\n",
       "    }\n",
       "\n",
       "    .dataframe thead th {\n",
       "        text-align: right;\n",
       "    }\n",
       "</style>\n",
       "<table border=\"1\" class=\"dataframe\">\n",
       "  <thead>\n",
       "    <tr style=\"text-align: right;\">\n",
       "      <th></th>\n",
       "      <th>samples</th>\n",
       "      <th>type</th>\n",
       "      <th>1007_s_at</th>\n",
       "      <th>1053_at</th>\n",
       "      <th>117_at</th>\n",
       "      <th>121_at</th>\n",
       "      <th>1255_g_at</th>\n",
       "      <th>1294_at</th>\n",
       "      <th>1316_at</th>\n",
       "      <th>1320_at</th>\n",
       "      <th>...</th>\n",
       "      <th>AFFX-r2-Ec-bioD-3_at</th>\n",
       "      <th>AFFX-r2-Ec-bioD-5_at</th>\n",
       "      <th>AFFX-r2-P1-cre-3_at</th>\n",
       "      <th>AFFX-r2-P1-cre-5_at</th>\n",
       "      <th>AFFX-ThrX-3_at</th>\n",
       "      <th>AFFX-ThrX-5_at</th>\n",
       "      <th>AFFX-ThrX-M_at</th>\n",
       "      <th>AFFX-TrpnX-3_at</th>\n",
       "      <th>AFFX-TrpnX-5_at</th>\n",
       "      <th>AFFX-TrpnX-M_at</th>\n",
       "    </tr>\n",
       "  </thead>\n",
       "  <tbody>\n",
       "    <tr>\n",
       "      <th>0</th>\n",
       "      <td>84</td>\n",
       "      <td>basal</td>\n",
       "      <td>9.850040</td>\n",
       "      <td>8.097927</td>\n",
       "      <td>6.424728</td>\n",
       "      <td>7.353027</td>\n",
       "      <td>3.029122</td>\n",
       "      <td>6.880079</td>\n",
       "      <td>4.963740</td>\n",
       "      <td>4.408328</td>\n",
       "      <td>...</td>\n",
       "      <td>12.229711</td>\n",
       "      <td>11.852955</td>\n",
       "      <td>13.658701</td>\n",
       "      <td>13.477698</td>\n",
       "      <td>6.265781</td>\n",
       "      <td>5.016196</td>\n",
       "      <td>4.901594</td>\n",
       "      <td>2.966657</td>\n",
       "      <td>3.508495</td>\n",
       "      <td>3.301999</td>\n",
       "    </tr>\n",
       "    <tr>\n",
       "      <th>1</th>\n",
       "      <td>85</td>\n",
       "      <td>basal</td>\n",
       "      <td>9.861357</td>\n",
       "      <td>8.212222</td>\n",
       "      <td>7.062593</td>\n",
       "      <td>7.685578</td>\n",
       "      <td>3.149468</td>\n",
       "      <td>7.542283</td>\n",
       "      <td>5.129607</td>\n",
       "      <td>4.584418</td>\n",
       "      <td>...</td>\n",
       "      <td>12.178531</td>\n",
       "      <td>11.809408</td>\n",
       "      <td>13.750086</td>\n",
       "      <td>13.470146</td>\n",
       "      <td>6.771853</td>\n",
       "      <td>5.291005</td>\n",
       "      <td>5.405839</td>\n",
       "      <td>2.934763</td>\n",
       "      <td>3.687666</td>\n",
       "      <td>3.064299</td>\n",
       "    </tr>\n",
       "    <tr>\n",
       "      <th>2</th>\n",
       "      <td>87</td>\n",
       "      <td>basal</td>\n",
       "      <td>10.103478</td>\n",
       "      <td>8.936137</td>\n",
       "      <td>5.735970</td>\n",
       "      <td>7.687822</td>\n",
       "      <td>3.125931</td>\n",
       "      <td>6.562369</td>\n",
       "      <td>4.813449</td>\n",
       "      <td>4.425195</td>\n",
       "      <td>...</td>\n",
       "      <td>12.125108</td>\n",
       "      <td>11.725766</td>\n",
       "      <td>13.621732</td>\n",
       "      <td>13.295080</td>\n",
       "      <td>6.346952</td>\n",
       "      <td>5.171403</td>\n",
       "      <td>5.184286</td>\n",
       "      <td>2.847684</td>\n",
       "      <td>3.550597</td>\n",
       "      <td>3.158535</td>\n",
       "    </tr>\n",
       "    <tr>\n",
       "      <th>3</th>\n",
       "      <td>90</td>\n",
       "      <td>basal</td>\n",
       "      <td>9.756875</td>\n",
       "      <td>7.357148</td>\n",
       "      <td>6.479183</td>\n",
       "      <td>6.986624</td>\n",
       "      <td>3.181638</td>\n",
       "      <td>7.802344</td>\n",
       "      <td>5.490982</td>\n",
       "      <td>4.567956</td>\n",
       "      <td>...</td>\n",
       "      <td>12.111235</td>\n",
       "      <td>11.719215</td>\n",
       "      <td>13.743108</td>\n",
       "      <td>13.508861</td>\n",
       "      <td>6.610284</td>\n",
       "      <td>5.193356</td>\n",
       "      <td>5.086569</td>\n",
       "      <td>3.031602</td>\n",
       "      <td>3.524981</td>\n",
       "      <td>3.272665</td>\n",
       "    </tr>\n",
       "    <tr>\n",
       "      <th>4</th>\n",
       "      <td>91</td>\n",
       "      <td>basal</td>\n",
       "      <td>9.408330</td>\n",
       "      <td>7.746404</td>\n",
       "      <td>6.693980</td>\n",
       "      <td>7.333426</td>\n",
       "      <td>3.169923</td>\n",
       "      <td>7.610457</td>\n",
       "      <td>5.372469</td>\n",
       "      <td>4.424426</td>\n",
       "      <td>...</td>\n",
       "      <td>12.173642</td>\n",
       "      <td>11.861296</td>\n",
       "      <td>13.797774</td>\n",
       "      <td>13.542206</td>\n",
       "      <td>6.414354</td>\n",
       "      <td>5.040202</td>\n",
       "      <td>5.235318</td>\n",
       "      <td>2.956232</td>\n",
       "      <td>3.445501</td>\n",
       "      <td>3.193947</td>\n",
       "    </tr>\n",
       "  </tbody>\n",
       "</table>\n",
       "<p>5 rows × 54677 columns</p>\n",
       "</div>"
      ],
      "text/plain": [
       "   samples   type  1007_s_at   1053_at    117_at    121_at  1255_g_at  \\\n",
       "0       84  basal   9.850040  8.097927  6.424728  7.353027   3.029122   \n",
       "1       85  basal   9.861357  8.212222  7.062593  7.685578   3.149468   \n",
       "2       87  basal  10.103478  8.936137  5.735970  7.687822   3.125931   \n",
       "3       90  basal   9.756875  7.357148  6.479183  6.986624   3.181638   \n",
       "4       91  basal   9.408330  7.746404  6.693980  7.333426   3.169923   \n",
       "\n",
       "    1294_at   1316_at   1320_at  ...  AFFX-r2-Ec-bioD-3_at  \\\n",
       "0  6.880079  4.963740  4.408328  ...             12.229711   \n",
       "1  7.542283  5.129607  4.584418  ...             12.178531   \n",
       "2  6.562369  4.813449  4.425195  ...             12.125108   \n",
       "3  7.802344  5.490982  4.567956  ...             12.111235   \n",
       "4  7.610457  5.372469  4.424426  ...             12.173642   \n",
       "\n",
       "   AFFX-r2-Ec-bioD-5_at  AFFX-r2-P1-cre-3_at  AFFX-r2-P1-cre-5_at  \\\n",
       "0             11.852955            13.658701            13.477698   \n",
       "1             11.809408            13.750086            13.470146   \n",
       "2             11.725766            13.621732            13.295080   \n",
       "3             11.719215            13.743108            13.508861   \n",
       "4             11.861296            13.797774            13.542206   \n",
       "\n",
       "   AFFX-ThrX-3_at  AFFX-ThrX-5_at  AFFX-ThrX-M_at  AFFX-TrpnX-3_at  \\\n",
       "0        6.265781        5.016196        4.901594         2.966657   \n",
       "1        6.771853        5.291005        5.405839         2.934763   \n",
       "2        6.346952        5.171403        5.184286         2.847684   \n",
       "3        6.610284        5.193356        5.086569         3.031602   \n",
       "4        6.414354        5.040202        5.235318         2.956232   \n",
       "\n",
       "   AFFX-TrpnX-5_at  AFFX-TrpnX-M_at  \n",
       "0         3.508495         3.301999  \n",
       "1         3.687666         3.064299  \n",
       "2         3.550597         3.158535  \n",
       "3         3.524981         3.272665  \n",
       "4         3.445501         3.193947  \n",
       "\n",
       "[5 rows x 54677 columns]"
      ]
     },
     "execution_count": 47,
     "metadata": {},
     "output_type": "execute_result"
    }
   ],
   "source": [
    "df = pd.read_csv(\"C:\\Ozy\\Data Science\\DS datasets\\Breast_GSE45827.csv\")\n",
    "df.head()"
   ]
  },
  {
   "cell_type": "markdown",
   "id": "b7f25ef9-6471-4770-a2e7-eb91ce69798a",
   "metadata": {},
   "source": [
    "## Basic Information of dataset"
   ]
  },
  {
   "cell_type": "code",
   "execution_count": 48,
   "id": "8b9094ac-ea95-46fb-b3de-28b950a46669",
   "metadata": {},
   "outputs": [
    {
     "name": "stdout",
     "output_type": "stream",
     "text": [
      "<class 'pandas.core.frame.DataFrame'>\n",
      "RangeIndex: 151 entries, 0 to 150\n",
      "Columns: 54677 entries, samples to AFFX-TrpnX-M_at\n",
      "dtypes: float64(54675), int64(1), object(1)\n",
      "memory usage: 63.0+ MB\n"
     ]
    }
   ],
   "source": [
    "df.info()"
   ]
  },
  {
   "cell_type": "markdown",
   "id": "215eaf0d-59b0-4f1d-af5a-e6d160c4acb1",
   "metadata": {},
   "source": [
    "## Summary of the dataset"
   ]
  },
  {
   "cell_type": "code",
   "execution_count": 49,
   "id": "c518c7db-7047-48f4-9f89-f7fc4ebec5c1",
   "metadata": {},
   "outputs": [
    {
     "data": {
      "text/html": [
       "<div>\n",
       "<style scoped>\n",
       "    .dataframe tbody tr th:only-of-type {\n",
       "        vertical-align: middle;\n",
       "    }\n",
       "\n",
       "    .dataframe tbody tr th {\n",
       "        vertical-align: top;\n",
       "    }\n",
       "\n",
       "    .dataframe thead th {\n",
       "        text-align: right;\n",
       "    }\n",
       "</style>\n",
       "<table border=\"1\" class=\"dataframe\">\n",
       "  <thead>\n",
       "    <tr style=\"text-align: right;\">\n",
       "      <th></th>\n",
       "      <th>samples</th>\n",
       "      <th>1007_s_at</th>\n",
       "      <th>1053_at</th>\n",
       "      <th>117_at</th>\n",
       "      <th>121_at</th>\n",
       "      <th>1255_g_at</th>\n",
       "      <th>1294_at</th>\n",
       "      <th>1316_at</th>\n",
       "      <th>1320_at</th>\n",
       "      <th>1405_i_at</th>\n",
       "      <th>...</th>\n",
       "      <th>AFFX-r2-Ec-bioD-3_at</th>\n",
       "      <th>AFFX-r2-Ec-bioD-5_at</th>\n",
       "      <th>AFFX-r2-P1-cre-3_at</th>\n",
       "      <th>AFFX-r2-P1-cre-5_at</th>\n",
       "      <th>AFFX-ThrX-3_at</th>\n",
       "      <th>AFFX-ThrX-5_at</th>\n",
       "      <th>AFFX-ThrX-M_at</th>\n",
       "      <th>AFFX-TrpnX-3_at</th>\n",
       "      <th>AFFX-TrpnX-5_at</th>\n",
       "      <th>AFFX-TrpnX-M_at</th>\n",
       "    </tr>\n",
       "  </thead>\n",
       "  <tbody>\n",
       "    <tr>\n",
       "      <th>count</th>\n",
       "      <td>151.000000</td>\n",
       "      <td>151.000000</td>\n",
       "      <td>151.000000</td>\n",
       "      <td>151.000000</td>\n",
       "      <td>151.000000</td>\n",
       "      <td>151.000000</td>\n",
       "      <td>151.000000</td>\n",
       "      <td>151.000000</td>\n",
       "      <td>151.000000</td>\n",
       "      <td>151.000000</td>\n",
       "      <td>...</td>\n",
       "      <td>151.000000</td>\n",
       "      <td>151.000000</td>\n",
       "      <td>151.000000</td>\n",
       "      <td>151.000000</td>\n",
       "      <td>151.000000</td>\n",
       "      <td>151.000000</td>\n",
       "      <td>151.000000</td>\n",
       "      <td>151.000000</td>\n",
       "      <td>151.000000</td>\n",
       "      <td>151.000000</td>\n",
       "    </tr>\n",
       "    <tr>\n",
       "      <th>mean</th>\n",
       "      <td>160.668874</td>\n",
       "      <td>10.338901</td>\n",
       "      <td>7.631910</td>\n",
       "      <td>6.224885</td>\n",
       "      <td>7.339248</td>\n",
       "      <td>3.185252</td>\n",
       "      <td>7.310240</td>\n",
       "      <td>5.323484</td>\n",
       "      <td>4.714095</td>\n",
       "      <td>7.787712</td>\n",
       "      <td>...</td>\n",
       "      <td>12.359605</td>\n",
       "      <td>11.823386</td>\n",
       "      <td>14.018193</td>\n",
       "      <td>13.773030</td>\n",
       "      <td>7.621929</td>\n",
       "      <td>5.699042</td>\n",
       "      <td>6.185605</td>\n",
       "      <td>2.918774</td>\n",
       "      <td>3.624008</td>\n",
       "      <td>3.173868</td>\n",
       "    </tr>\n",
       "    <tr>\n",
       "      <th>std</th>\n",
       "      <td>45.431226</td>\n",
       "      <td>0.613445</td>\n",
       "      <td>0.706464</td>\n",
       "      <td>0.645435</td>\n",
       "      <td>0.330827</td>\n",
       "      <td>0.158909</td>\n",
       "      <td>0.642091</td>\n",
       "      <td>0.294513</td>\n",
       "      <td>0.308550</td>\n",
       "      <td>1.648260</td>\n",
       "      <td>...</td>\n",
       "      <td>0.318436</td>\n",
       "      <td>0.369859</td>\n",
       "      <td>0.253870</td>\n",
       "      <td>0.290556</td>\n",
       "      <td>0.857777</td>\n",
       "      <td>0.860841</td>\n",
       "      <td>0.953867</td>\n",
       "      <td>0.093126</td>\n",
       "      <td>0.145394</td>\n",
       "      <td>0.101907</td>\n",
       "    </tr>\n",
       "    <tr>\n",
       "      <th>min</th>\n",
       "      <td>84.000000</td>\n",
       "      <td>7.505488</td>\n",
       "      <td>5.855968</td>\n",
       "      <td>4.763602</td>\n",
       "      <td>6.632206</td>\n",
       "      <td>2.760583</td>\n",
       "      <td>5.455736</td>\n",
       "      <td>4.646131</td>\n",
       "      <td>3.946065</td>\n",
       "      <td>3.866030</td>\n",
       "      <td>...</td>\n",
       "      <td>11.650564</td>\n",
       "      <td>10.939760</td>\n",
       "      <td>13.419083</td>\n",
       "      <td>13.191191</td>\n",
       "      <td>5.729767</td>\n",
       "      <td>4.326227</td>\n",
       "      <td>4.301471</td>\n",
       "      <td>2.733497</td>\n",
       "      <td>3.299401</td>\n",
       "      <td>2.937393</td>\n",
       "    </tr>\n",
       "    <tr>\n",
       "      <th>25%</th>\n",
       "      <td>121.500000</td>\n",
       "      <td>10.103030</td>\n",
       "      <td>7.166075</td>\n",
       "      <td>5.798087</td>\n",
       "      <td>7.105841</td>\n",
       "      <td>3.075873</td>\n",
       "      <td>6.874504</td>\n",
       "      <td>5.131931</td>\n",
       "      <td>4.466260</td>\n",
       "      <td>6.804510</td>\n",
       "      <td>...</td>\n",
       "      <td>12.149550</td>\n",
       "      <td>11.592631</td>\n",
       "      <td>13.807282</td>\n",
       "      <td>13.523011</td>\n",
       "      <td>6.884862</td>\n",
       "      <td>4.967515</td>\n",
       "      <td>5.336542</td>\n",
       "      <td>2.861549</td>\n",
       "      <td>3.532740</td>\n",
       "      <td>3.109767</td>\n",
       "    </tr>\n",
       "    <tr>\n",
       "      <th>50%</th>\n",
       "      <td>159.000000</td>\n",
       "      <td>10.416819</td>\n",
       "      <td>7.531673</td>\n",
       "      <td>6.235074</td>\n",
       "      <td>7.333426</td>\n",
       "      <td>3.187703</td>\n",
       "      <td>7.417113</td>\n",
       "      <td>5.274663</td>\n",
       "      <td>4.662957</td>\n",
       "      <td>7.912255</td>\n",
       "      <td>...</td>\n",
       "      <td>12.321900</td>\n",
       "      <td>11.830756</td>\n",
       "      <td>14.002497</td>\n",
       "      <td>13.740376</td>\n",
       "      <td>7.795425</td>\n",
       "      <td>5.489450</td>\n",
       "      <td>6.209136</td>\n",
       "      <td>2.911734</td>\n",
       "      <td>3.615106</td>\n",
       "      <td>3.163205</td>\n",
       "    </tr>\n",
       "    <tr>\n",
       "      <th>75%</th>\n",
       "      <td>200.500000</td>\n",
       "      <td>10.735117</td>\n",
       "      <td>8.053832</td>\n",
       "      <td>6.612291</td>\n",
       "      <td>7.513084</td>\n",
       "      <td>3.280416</td>\n",
       "      <td>7.760806</td>\n",
       "      <td>5.456686</td>\n",
       "      <td>4.941337</td>\n",
       "      <td>8.887997</td>\n",
       "      <td>...</td>\n",
       "      <td>12.527235</td>\n",
       "      <td>12.021728</td>\n",
       "      <td>14.232589</td>\n",
       "      <td>14.028020</td>\n",
       "      <td>8.195458</td>\n",
       "      <td>6.449022</td>\n",
       "      <td>7.046721</td>\n",
       "      <td>2.961270</td>\n",
       "      <td>3.698539</td>\n",
       "      <td>3.229561</td>\n",
       "    </tr>\n",
       "    <tr>\n",
       "      <th>max</th>\n",
       "      <td>238.000000</td>\n",
       "      <td>11.675109</td>\n",
       "      <td>9.627008</td>\n",
       "      <td>8.364749</td>\n",
       "      <td>8.374055</td>\n",
       "      <td>3.611630</td>\n",
       "      <td>8.569296</td>\n",
       "      <td>6.360765</td>\n",
       "      <td>5.893006</td>\n",
       "      <td>11.710498</td>\n",
       "      <td>...</td>\n",
       "      <td>13.509037</td>\n",
       "      <td>13.119966</td>\n",
       "      <td>14.622678</td>\n",
       "      <td>14.482744</td>\n",
       "      <td>10.291243</td>\n",
       "      <td>8.112206</td>\n",
       "      <td>9.121638</td>\n",
       "      <td>3.322275</td>\n",
       "      <td>4.160823</td>\n",
       "      <td>3.451855</td>\n",
       "    </tr>\n",
       "  </tbody>\n",
       "</table>\n",
       "<p>8 rows × 54676 columns</p>\n",
       "</div>"
      ],
      "text/plain": [
       "          samples   1007_s_at     1053_at      117_at      121_at   1255_g_at  \\\n",
       "count  151.000000  151.000000  151.000000  151.000000  151.000000  151.000000   \n",
       "mean   160.668874   10.338901    7.631910    6.224885    7.339248    3.185252   \n",
       "std     45.431226    0.613445    0.706464    0.645435    0.330827    0.158909   \n",
       "min     84.000000    7.505488    5.855968    4.763602    6.632206    2.760583   \n",
       "25%    121.500000   10.103030    7.166075    5.798087    7.105841    3.075873   \n",
       "50%    159.000000   10.416819    7.531673    6.235074    7.333426    3.187703   \n",
       "75%    200.500000   10.735117    8.053832    6.612291    7.513084    3.280416   \n",
       "max    238.000000   11.675109    9.627008    8.364749    8.374055    3.611630   \n",
       "\n",
       "          1294_at     1316_at     1320_at   1405_i_at  ...  \\\n",
       "count  151.000000  151.000000  151.000000  151.000000  ...   \n",
       "mean     7.310240    5.323484    4.714095    7.787712  ...   \n",
       "std      0.642091    0.294513    0.308550    1.648260  ...   \n",
       "min      5.455736    4.646131    3.946065    3.866030  ...   \n",
       "25%      6.874504    5.131931    4.466260    6.804510  ...   \n",
       "50%      7.417113    5.274663    4.662957    7.912255  ...   \n",
       "75%      7.760806    5.456686    4.941337    8.887997  ...   \n",
       "max      8.569296    6.360765    5.893006   11.710498  ...   \n",
       "\n",
       "       AFFX-r2-Ec-bioD-3_at  AFFX-r2-Ec-bioD-5_at  AFFX-r2-P1-cre-3_at  \\\n",
       "count            151.000000            151.000000           151.000000   \n",
       "mean              12.359605             11.823386            14.018193   \n",
       "std                0.318436              0.369859             0.253870   \n",
       "min               11.650564             10.939760            13.419083   \n",
       "25%               12.149550             11.592631            13.807282   \n",
       "50%               12.321900             11.830756            14.002497   \n",
       "75%               12.527235             12.021728            14.232589   \n",
       "max               13.509037             13.119966            14.622678   \n",
       "\n",
       "       AFFX-r2-P1-cre-5_at  AFFX-ThrX-3_at  AFFX-ThrX-5_at  AFFX-ThrX-M_at  \\\n",
       "count           151.000000      151.000000      151.000000      151.000000   \n",
       "mean             13.773030        7.621929        5.699042        6.185605   \n",
       "std               0.290556        0.857777        0.860841        0.953867   \n",
       "min              13.191191        5.729767        4.326227        4.301471   \n",
       "25%              13.523011        6.884862        4.967515        5.336542   \n",
       "50%              13.740376        7.795425        5.489450        6.209136   \n",
       "75%              14.028020        8.195458        6.449022        7.046721   \n",
       "max              14.482744       10.291243        8.112206        9.121638   \n",
       "\n",
       "       AFFX-TrpnX-3_at  AFFX-TrpnX-5_at  AFFX-TrpnX-M_at  \n",
       "count       151.000000       151.000000       151.000000  \n",
       "mean          2.918774         3.624008         3.173868  \n",
       "std           0.093126         0.145394         0.101907  \n",
       "min           2.733497         3.299401         2.937393  \n",
       "25%           2.861549         3.532740         3.109767  \n",
       "50%           2.911734         3.615106         3.163205  \n",
       "75%           2.961270         3.698539         3.229561  \n",
       "max           3.322275         4.160823         3.451855  \n",
       "\n",
       "[8 rows x 54676 columns]"
      ]
     },
     "execution_count": 49,
     "metadata": {},
     "output_type": "execute_result"
    }
   ],
   "source": [
    "df.describe()"
   ]
  },
  {
   "cell_type": "markdown",
   "id": "1a1aaa1d-29b8-4f06-8f2a-232e26d6ff45",
   "metadata": {},
   "source": [
    "## Checking Missing values in DataFrame"
   ]
  },
  {
   "cell_type": "code",
   "execution_count": 50,
   "id": "f5fde3c1-5f7a-494b-8cf8-9a1808b4cd17",
   "metadata": {},
   "outputs": [
    {
     "data": {
      "text/plain": [
       "samples            0\n",
       "type               0\n",
       "1007_s_at          0\n",
       "1053_at            0\n",
       "117_at             0\n",
       "                  ..\n",
       "AFFX-ThrX-5_at     0\n",
       "AFFX-ThrX-M_at     0\n",
       "AFFX-TrpnX-3_at    0\n",
       "AFFX-TrpnX-5_at    0\n",
       "AFFX-TrpnX-M_at    0\n",
       "Length: 54677, dtype: int64"
      ]
     },
     "execution_count": 50,
     "metadata": {},
     "output_type": "execute_result"
    }
   ],
   "source": [
    "df.isnull().sum()"
   ]
  },
  {
   "cell_type": "markdown",
   "id": "ca783144-1731-4e3b-b47f-e5d089c6bc6b",
   "metadata": {},
   "source": [
    "## Encode Categorical Variables"
   ]
  },
  {
   "cell_type": "code",
   "execution_count": 51,
   "id": "8b9414dc-ca71-40c6-810e-a9696fd61395",
   "metadata": {},
   "outputs": [],
   "source": [
    "# Encode categorical column 'type'\n",
    "df['type'] = df['type'].astype('category').cat.codes"
   ]
  },
  {
   "cell_type": "markdown",
   "id": "66ef219c-ef7b-4336-985c-d501bc2af2db",
   "metadata": {},
   "source": [
    "- Convert the type column to numeric using categorical encoding"
   ]
  },
  {
   "cell_type": "markdown",
   "id": "f6c7003a-b6f4-4c8d-930e-99e149385847",
   "metadata": {},
   "source": [
    "## Standardization"
   ]
  },
  {
   "cell_type": "code",
   "execution_count": 52,
   "id": "7d342918-7acc-446e-9278-805ef1dccd7c",
   "metadata": {},
   "outputs": [],
   "source": [
    "from sklearn.preprocessing import StandardScaler\n",
    "\n",
    "# Separate features and target\n",
    "X = df.drop(columns=['samples', 'type'])\n",
    "y = df['type']\n",
    "\n",
    "# Standardize the features\n",
    "scaler = StandardScaler()\n",
    "X_scaled = scaler.fit_transform(X)\n"
   ]
  },
  {
   "cell_type": "markdown",
   "id": "8e27e43e-2e3c-4520-af3d-4749af6e2c1e",
   "metadata": {},
   "source": [
    "- Normalize or standardize the gene expression columns to ensure uniform scaling before applying PCA and t-SNE."
   ]
  },
  {
   "cell_type": "markdown",
   "id": "8ae0b59f-04e0-40ed-bde1-e3a39a38309a",
   "metadata": {},
   "source": [
    "## Dimensionality Reduction with PCA"
   ]
  },
  {
   "cell_type": "code",
   "execution_count": 53,
   "id": "eefb2a4e-cf9c-46d9-98b8-497740356270",
   "metadata": {},
   "outputs": [],
   "source": [
    "from sklearn.decomposition import PCA\n",
    "\n",
    "# Apply PCA\n",
    "pca = PCA(n_components=50)  # Reduce to 50 components as an example\n",
    "X_pca = pca.fit_transform(X_scaled)"
   ]
  },
  {
   "cell_type": "markdown",
   "id": "b9a74cd5-62d4-46e8-bb5b-2bf9c7e6041a",
   "metadata": {},
   "source": [
    "- Apply PCA to reduce the dimensionality of the data before applying t-SNE."
   ]
  },
  {
   "cell_type": "markdown",
   "id": "81c250ae-bcbc-4f92-af13-ee22112222b6",
   "metadata": {},
   "source": [
    "## Splitting the Dataset"
   ]
  },
  {
   "cell_type": "code",
   "execution_count": 54,
   "id": "d4ac60cd-a6d6-40ad-a024-cfd6a0de6234",
   "metadata": {},
   "outputs": [
    {
     "name": "stdout",
     "output_type": "stream",
     "text": [
      "Training set shape: (120, 50)\n",
      "Testing set shape: (31, 50)\n"
     ]
    }
   ],
   "source": [
    "from sklearn.model_selection import train_test_split\n",
    "\n",
    "# Split the dataset\n",
    "X_train, X_test, y_train, y_test = train_test_split(X_pca, y, test_size=0.2, random_state=42)\n",
    "\n",
    "# Display shapes\n",
    "print(\"Training set shape:\", X_train.shape)\n",
    "print(\"Testing set shape:\", X_test.shape)\n"
   ]
  },
  {
   "cell_type": "markdown",
   "id": "b2793708-a6b7-4b05-a83d-451daf569f36",
   "metadata": {},
   "source": [
    "- train_test_split: Splits the dataset into training and testing sets. Here, 20% of the data is used for testing, and the remaining 80% is used for training.\n",
    "- Random State: Ensures that the split is reproducible."
   ]
  },
  {
   "cell_type": "markdown",
   "id": "ba5ba527-b27b-4c19-bb8c-3964f719a623",
   "metadata": {},
   "source": [
    "## T-SNE Construction"
   ]
  },
  {
   "cell_type": "code",
   "execution_count": 55,
   "id": "7c1eb986-2097-4502-97cf-8eb20675cc6e",
   "metadata": {},
   "outputs": [],
   "source": [
    "from sklearn.manifold import TSNE\n",
    "\n",
    "# Implement t-SNE\n",
    "tsne = TSNE(n_components=2, perplexity=30, learning_rate=200, random_state=42)"
   ]
  },
  {
   "cell_type": "markdown",
   "id": "aa319696-6bb6-4399-bdbb-8dc45ecf2e0a",
   "metadata": {},
   "source": [
    "- Perplexity: Controls the balance between local and global aspects of the data. Typically, values between 5 and 50 work well.\n",
    "- Learning Rate: Controls how much the algorithm adjusts during optimization. A good range is between 10 and 1000."
   ]
  },
  {
   "cell_type": "markdown",
   "id": "e271cc71-f56e-4ee2-ad87-8d0debf94846",
   "metadata": {},
   "source": [
    "## Train t-SNE model on the training data"
   ]
  },
  {
   "cell_type": "code",
   "execution_count": 56,
   "id": "4ac2f82a-d14e-4558-94e5-017d0431b5bc",
   "metadata": {},
   "outputs": [
    {
     "data": {
      "text/plain": [
       "array([[-0.85493875,  6.5105987 ],\n",
       "       [ 2.630701  , -1.1398585 ],\n",
       "       [-1.5523231 ,  4.9292607 ],\n",
       "       [-3.0182889 , -2.8884642 ],\n",
       "       [ 5.11527   ,  4.4499674 ],\n",
       "       [ 1.0420455 ,  6.133571  ],\n",
       "       [-0.12973616,  6.7610073 ],\n",
       "       [ 1.4134651 , -2.7457328 ],\n",
       "       [ 4.3957763 ,  7.2941365 ],\n",
       "       [-2.358371  ,  5.667599  ],\n",
       "       [-2.5032547 ,  2.4202445 ],\n",
       "       [ 0.8949332 ,  0.21207997],\n",
       "       [ 2.700531  , -3.1151397 ],\n",
       "       [-1.9892318 ,  4.5820403 ],\n",
       "       [ 3.388423  ,  6.905239  ],\n",
       "       [-3.2650175 , -0.7994621 ],\n",
       "       [ 3.7153745 , -0.8695328 ],\n",
       "       [ 7.4212584 , -0.29977304],\n",
       "       [-0.4797961 , -2.4805517 ],\n",
       "       [ 0.37220085,  3.7161963 ],\n",
       "       [ 3.3262696 , -2.4125648 ],\n",
       "       [-3.2384229 , -0.84507114],\n",
       "       [ 0.91861564, -0.48815927],\n",
       "       [ 3.8185513 ,  8.028324  ],\n",
       "       [ 2.5766335 ,  4.1359186 ],\n",
       "       [ 3.9627845 ,  1.4915204 ],\n",
       "       [ 0.46749836,  5.167508  ],\n",
       "       [-0.85797435,  6.072708  ],\n",
       "       [ 5.210957  ,  5.117928  ],\n",
       "       [ 1.4099151 ,  1.6908826 ],\n",
       "       [-3.6710145 , -1.8523256 ],\n",
       "       [ 1.1201984 , -2.2829204 ],\n",
       "       [ 2.4723306 ,  5.0314026 ],\n",
       "       [ 1.962116  ,  6.161442  ],\n",
       "       [ 1.4458027 ,  4.954592  ],\n",
       "       [ 1.6123612 , -1.6419555 ],\n",
       "       [-1.0322508 ,  3.9013793 ],\n",
       "       [ 3.7427332 , -2.7413712 ],\n",
       "       [ 2.1307793 , -3.506423  ],\n",
       "       [ 4.7972627 ,  5.5688543 ],\n",
       "       [ 0.06931737, -5.4093766 ],\n",
       "       [ 3.2078154 , -4.363164  ],\n",
       "       [ 7.4280396 , -0.69957936],\n",
       "       [-0.54586184,  5.0372915 ],\n",
       "       [ 0.52038854, -1.9550503 ],\n",
       "       [ 0.28449467, -2.9369965 ],\n",
       "       [ 2.2128375 ,  1.9557027 ],\n",
       "       [-1.7168355 , -4.9816885 ],\n",
       "       [ 0.41250935, -1.6206021 ],\n",
       "       [ 3.0409389 ,  1.64037   ],\n",
       "       [ 6.2636313 ,  7.0753207 ],\n",
       "       [-2.191417  , -0.818146  ],\n",
       "       [ 3.3740325 , -1.670277  ],\n",
       "       [ 5.5873322 ,  5.7234273 ],\n",
       "       [ 0.25875217,  5.0424533 ],\n",
       "       [ 7.209847  , -1.8985618 ],\n",
       "       [ 6.5681667 , -0.4778352 ],\n",
       "       [ 0.14375705,  4.387919  ],\n",
       "       [ 1.2965754 , -2.4662788 ],\n",
       "       [ 4.465502  ,  7.372108  ],\n",
       "       [ 4.3209496 ,  4.70529   ],\n",
       "       [ 1.3086443 ,  2.812678  ],\n",
       "       [ 1.2714798 , -3.253339  ],\n",
       "       [-0.6412318 , -0.20533535],\n",
       "       [ 8.086454  , -0.12576348],\n",
       "       [-2.182913  , -3.6736355 ],\n",
       "       [ 2.286738  , -2.0970442 ],\n",
       "       [ 1.50196   , -8.042748  ],\n",
       "       [ 4.789104  ,  8.012083  ],\n",
       "       [ 0.8669588 ,  5.641714  ],\n",
       "       [-3.6606321 ,  0.07504223],\n",
       "       [-2.300023  , -2.0481212 ],\n",
       "       [ 4.481645  ,  6.978965  ],\n",
       "       [ 1.0269244 ,  6.3331914 ],\n",
       "       [-0.61106193,  6.7709417 ],\n",
       "       [ 7.9216537 ,  0.27307814],\n",
       "       [ 3.3380368 , -5.598453  ],\n",
       "       [ 4.1918573 ,  8.885619  ],\n",
       "       [ 1.5413146 , -4.8286185 ],\n",
       "       [ 0.9399588 , -4.012407  ],\n",
       "       [ 3.0044315 ,  8.453388  ],\n",
       "       [ 1.4315348 ,  4.0142303 ],\n",
       "       [ 1.9500844 ,  2.9090774 ],\n",
       "       [ 1.1492009 , -3.5838826 ],\n",
       "       [ 5.335252  ,  5.543015  ],\n",
       "       [ 0.23460524, -4.1879816 ],\n",
       "       [ 5.7861753 ,  5.428758  ],\n",
       "       [ 1.8524159 , -4.144865  ],\n",
       "       [ 2.69633   ,  3.3647473 ],\n",
       "       [ 3.5871258 , -1.4075983 ],\n",
       "       [ 8.257939  , -1.0207127 ],\n",
       "       [ 1.3597176 ,  2.0017922 ],\n",
       "       [ 1.5009959 , -8.1233835 ],\n",
       "       [ 4.597737  ,  5.3683214 ],\n",
       "       [ 4.238724  ,  0.47737056],\n",
       "       [ 1.1927978 , -7.425473  ],\n",
       "       [-0.43871242,  2.164795  ],\n",
       "       [ 1.3183048 , -7.821967  ],\n",
       "       [ 1.4907464 ,  4.375852  ],\n",
       "       [ 1.3167361 ,  3.0439441 ],\n",
       "       [ 1.4212825 , -0.90966874],\n",
       "       [-0.74153197, -1.22492   ],\n",
       "       [-0.11747484,  8.091443  ],\n",
       "       [ 2.4634943 , -0.22514251],\n",
       "       [ 5.3936005 ,  8.082913  ],\n",
       "       [ 2.1991487 ,  1.6763164 ],\n",
       "       [-1.774153  , -2.2540255 ],\n",
       "       [-0.11469711, -2.2261329 ],\n",
       "       [-1.6643038 , -0.9975338 ],\n",
       "       [-2.3289833 , -0.7361594 ],\n",
       "       [ 1.0502917 , -7.2731085 ],\n",
       "       [ 8.188816  ,  1.1817138 ],\n",
       "       [ 3.282458  , -5.337766  ],\n",
       "       [ 4.2681756 , -3.3435547 ],\n",
       "       [-2.4874258 ,  6.7444105 ],\n",
       "       [ 7.516486  , -0.1602051 ],\n",
       "       [ 0.20597431, -1.8529371 ],\n",
       "       [-1.4392986 ,  4.910538  ],\n",
       "       [ 0.5788506 , -2.4115574 ],\n",
       "       [-1.0551077 , -3.265714  ]], dtype=float32)"
      ]
     },
     "execution_count": 56,
     "metadata": {},
     "output_type": "execute_result"
    }
   ],
   "source": [
    "X_tsne = tsne.fit_transform(X_train)\n",
    "X_tsne"
   ]
  },
  {
   "cell_type": "markdown",
   "id": "240d277e-f459-4e2e-95db-cdcd2def5346",
   "metadata": {},
   "source": [
    "## Analyze Cluster Formations"
   ]
  },
  {
   "cell_type": "markdown",
   "id": "f163248c-4883-4e84-b865-4c23c69e8310",
   "metadata": {},
   "source": [
    "- Cluster Identification: Look for distinct groupings or clusters in the scatter plot. Clusters should ideally represent meaningful groupings based on the underlying data.\n",
    "- Homogeneity: Check if points within the same cluster are closely packed together, indicating that t-SNE has captured similar data points well.\n",
    "- Separation: Evaluate how well-separated different clusters are. Well-separated clusters suggest that t-SNE has effectively captured the differences between different categories or classes."
   ]
  },
  {
   "cell_type": "markdown",
   "id": "a5895f3d-4197-4baa-8b32-910d0d1f6bbc",
   "metadata": {},
   "source": [
    "## Visualize the t-SNE results"
   ]
  },
  {
   "cell_type": "code",
   "execution_count": 57,
   "id": "b743ef89-2525-41dc-b3d0-6e0e701e5456",
   "metadata": {},
   "outputs": [
    {
     "data": {
      "image/png": "[encoded data removed]",
      "text/plain": [
       "<Figure size 1000x600 with 2 Axes>"
      ]
     },
     "metadata": {},
     "output_type": "display_data"
    }
   ],
   "source": [
    "plt.figure(figsize=(10, 6))\n",
    "scatter = plt.scatter(X_tsne[:, 0], X_tsne[:, 1], c=y_train, cmap='viridis', s=50, alpha=0.7)\n",
    "plt.colorbar(scatter, label='Type')\n",
    "plt.title('t-SNE Visualization of Gene Expression Data')\n",
    "plt.xlabel('t-SNE Component 1')\n",
    "plt.ylabel('t-SNE Component 2')\n",
    "plt.show()"
   ]
  },
  {
   "cell_type": "markdown",
   "id": "9c663387-f6da-4b83-95eb-22c3d3969d35",
   "metadata": {},
   "source": [
    "- X_train_tsne[:, 0] and X_train_tsne[:, 1]: These represent the 2D coordinates of the data points after t-SNE transformation.\n",
    "- c=y_train: Colors the points according to their labels, helping to differentiate clusters or categories.\n",
    "- cmap='viridis': A colormap to make the plot visually appealing and distinguishable.\n",
    "- alpha=0.7: Adds slight transparency to better visualize overlapping points."
   ]
  },
  {
   "cell_type": "markdown",
   "id": "0ddb74b1-0274-462d-b03f-57fca24c58d0",
   "metadata": {},
   "source": [
    "- fit_transform trains the t-SNE model and reduces the dimensionality of the data to 2D.\n",
    "- The scatter plot visualizes the t-SNE results, coloring points based on the type column to show clustering patterns."
   ]
  },
  {
   "cell_type": "markdown",
   "id": "59a7d788-9b6b-49a9-b060-c1110f5612aa",
   "metadata": {},
   "source": [
    "## Hyperparameter Tuning with Grid Search"
   ]
  },
  {
   "cell_type": "code",
   "execution_count": 58,
   "id": "7f5e006c-d4f7-40c6-b7eb-5a5d591c8d4a",
   "metadata": {},
   "outputs": [
    {
     "name": "stdout",
     "output_type": "stream",
     "text": [
      "Best Parameters: {'perplexity': 50, 'learning_rate': 10}\n",
      "Best Silhouette Score: 0.24901406466960907\n"
     ]
    }
   ],
   "source": [
    "from sklearn.manifold import TSNE\n",
    "from sklearn.model_selection import GridSearchCV\n",
    "from sklearn.manifold import TSNE\n",
    "from sklearn.metrics import silhouette_score\n",
    "import numpy as np\n",
    "\n",
    "# Define the parameter grid for t-SNE\n",
    "param_grid = {\n",
    "    'perplexity': [5, 10, 30, 50, 100],\n",
    "    'learning_rate': [10, 50, 100, 200, 500]\n",
    "}\n",
    "\n",
    "# Function to evaluate t-SNE with different parameters\n",
    "def evaluate_clustering(X_train, y_train, perplexity, learning_rate):\n",
    "    tsne = TSNE(n_components=2, perplexity=perplexity, learning_rate=learning_rate, random_state=42)\n",
    "    X_tsne = tsne.fit_transform(X_train)\n",
    "    return silhouette_score(X_tsne, y_train, metric='euclidean')\n",
    "\n",
    "# Grid search for hyperparameters\n",
    "best_score = -np.inf\n",
    "best_params = {}\n",
    "\n",
    "for perplexity in param_grid['perplexity']:\n",
    "    for learning_rate in param_grid['learning_rate']:\n",
    "        score = evaluate_clustering(X_train, y_train, perplexity, learning_rate)\n",
    "        if score > best_score:\n",
    "            best_score = score\n",
    "            best_params = {'perplexity': perplexity, 'learning_rate': learning_rate}\n",
    "\n",
    "print(f\"Best Parameters: {best_params}\")\n",
    "print(f\"Best Silhouette Score: {best_score}\")"
   ]
  },
  {
   "cell_type": "markdown",
   "id": "565f4a3f-8be8-4729-92e9-3e95f9554840",
   "metadata": {},
   "source": [
    "- evaluate_clustering(X_tsne, number_of_clusters): This function performs KMeans clustering on the t-SNE-transformed data and computes the silhouette score, which measures how well-separated the clusters are.\n",
    "- Iterate over the defined range of perplexities and learning rates.\n",
    "- For each combination, apply t-SNE and transform the scaled training data.\n",
    "- Evaluate the clustering quality using the silhouette score.\n",
    "- Keep track of the best performing perplexity and learning rate based on the silhouette score.\n",
    "- After the grid search, print the best hyperparameters and the corresponding silhouette score."
   ]
  },
  {
   "cell_type": "markdown",
   "id": "aa8ccd6e-438d-41c1-b945-6ef5705c2929",
   "metadata": {},
   "source": [
    "## Optimized t-SNE Visualization"
   ]
  },
  {
   "cell_type": "code",
   "execution_count": 59,
   "id": "4d2a5883-94fd-4b9a-920b-4ecf28e43798",
   "metadata": {},
   "outputs": [
    {
     "data": {
      "image/png": "[encoded data removed]",
      "text/plain": [
       "<Figure size 1000x600 with 2 Axes>"
      ]
     },
     "metadata": {},
     "output_type": "display_data"
    }
   ],
   "source": [
    "plt.figure(figsize=(10, 6))\n",
    "scatter = plt.scatter(X_tsne[:, 0], X_tsne[:, 1], c=y_train, cmap='viridis', s=50, alpha=0.7)\n",
    "plt.colorbar(scatter, label='Type')\n",
    "plt.title('Optimized t-SNE Visualization of Gene Expression Data')\n",
    "plt.xlabel('t-SNE Component 1')\n",
    "plt.ylabel('t-SNE Component 2')\n",
    "plt.show()"
   ]
  },
  {
   "cell_type": "markdown",
   "id": "f6b6a980-ad9c-4e5b-bd4b-af1e49cf1c51",
   "metadata": {},
   "source": [
    "## Summary"
   ]
  },
  {
   "cell_type": "markdown",
   "id": "18c7eeda-b1c9-493d-b9bd-ac8b1f4ff1b9",
   "metadata": {},
   "source": [
    "- After performing hyperparameter tuning on the Breast Cancer Gene Expression - CuMiDa dataset, the best parameters identified were a perplexity of 50 and a learning rate of 200, resulting in a silhouette score of 0.239.\n",
    "- Despite these optimizations, no significant changes were observed in the t-SNE visualizations, suggesting that further tuning or alternative approaches might be needed to enhance the clarity of the clusters."
   ]
  },
  {
   "cell_type": "code",
   "execution_count": null,
   "id": "8b11c275-3f02-4f72-ad99-b17dbf1d339f",
   "metadata": {},
   "outputs": [],
   "source": []
  }
 ],
 "metadata": {
  "kernelspec": {
   "display_name": "Python 3 (ipykernel)",
   "language": "python",
   "name": "python3"
  },
  "language_info": {
   "codemirror_mode": {
    "name": "ipython",
    "version": 3
   },
   "file_extension": ".py",
   "mimetype": "text/x-python",
   "name": "python",
   "nbconvert_exporter": "python",
   "pygments_lexer": "ipython3",
   "version": "3.11.5"
  }
 },
 "nbformat": 4,
 "nbformat_minor": 5
}
