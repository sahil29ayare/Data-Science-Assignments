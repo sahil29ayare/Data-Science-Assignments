{
 "cells": [
  {
   "cell_type": "markdown",
   "id": "61ca2126-a7c6-4cfc-8d1e-24e83c0c0e0f",
   "metadata": {},
   "source": [
    "## T-SNE ASSIGNMENT | Brain Cancer Dataset"
   ]
  },
  {
   "cell_type": "markdown",
   "id": "1b9034e6-2052-4b7f-9883-63f275a8ee66",
   "metadata": {},
   "source": [
    "## Introduction of the Dataset"
   ]
  },
  {
   "cell_type": "markdown",
   "id": "61c3e7a0-d51d-47cf-b814-41cf8eb92594",
   "metadata": {},
   "source": [
    "The Brain Cancer Gene Expression - CuMiDa dataset contains gene expression data for 130 brain cancer samples, with 54,677 features representing various gene expression levels. Each sample is labeled with a type indicating the specific brain cancer type. This dataset is designed for analyzing high-dimensional gene expression profiles, making it ideal for dimensionality reduction and clustering tasks using techniques like t-SNE.\n",
    "\n",
    "- samples: Identifier (object type)\n",
    "- type: Categorical label (object type)\n",
    "- Gene expression levels: Numerical values (float64)\n",
    "- Purpose: Analyze gene expression patterns to identify and visualize clusters or patterns related to different brain cancer types.\n",
    "- Data Characteristics: High-dimensional with extensive gene expression data, making it suitable for dimensionality reduction techniques like PCA and t-SNE."
   ]
  },
  {
   "cell_type": "markdown",
   "id": "e9a2044b-dcbd-4f6e-b5ea-2b410959e2f8",
   "metadata": {},
   "source": [
    "## Import Libraries"
   ]
  },
  {
   "cell_type": "code",
   "execution_count": 23,
   "id": "bb4020c2-0f5a-4994-a656-7e755e98e581",
   "metadata": {},
   "outputs": [],
   "source": [
    "import numpy as np\n",
    "import pandas as pd\n",
    "import seaborn as sns\n",
    "import matplotlib.pyplot as plt"
   ]
  },
  {
   "cell_type": "markdown",
   "id": "a37be126-20b6-4150-a47b-7291734e1af7",
   "metadata": {},
   "source": [
    "## Load the dataset"
   ]
  },
  {
   "cell_type": "code",
   "execution_count": 24,
   "id": "42f46b0b-ca22-4bb1-a857-7149edb9cf62",
   "metadata": {},
   "outputs": [
    {
     "data": {
      "text/html": [
       "<div>\n",
       "<style scoped>\n",
       "    .dataframe tbody tr th:only-of-type {\n",
       "        vertical-align: middle;\n",
       "    }\n",
       "\n",
       "    .dataframe tbody tr th {\n",
       "        vertical-align: top;\n",
       "    }\n",
       "\n",
       "    .dataframe thead th {\n",
       "        text-align: right;\n",
       "    }\n",
       "</style>\n",
       "<table border=\"1\" class=\"dataframe\">\n",
       "  <thead>\n",
       "    <tr style=\"text-align: right;\">\n",
       "      <th></th>\n",
       "      <th>samples</th>\n",
       "      <th>type</th>\n",
       "      <th>1007_s_at</th>\n",
       "      <th>1053_at</th>\n",
       "      <th>117_at</th>\n",
       "      <th>121_at</th>\n",
       "      <th>1255_g_at</th>\n",
       "      <th>1294_at</th>\n",
       "      <th>1316_at</th>\n",
       "      <th>1320_at</th>\n",
       "      <th>...</th>\n",
       "      <th>AFFX-r2-Ec-bioD-3_at</th>\n",
       "      <th>AFFX-r2-Ec-bioD-5_at</th>\n",
       "      <th>AFFX-r2-P1-cre-3_at</th>\n",
       "      <th>AFFX-r2-P1-cre-5_at</th>\n",
       "      <th>AFFX-ThrX-3_at</th>\n",
       "      <th>AFFX-ThrX-5_at</th>\n",
       "      <th>AFFX-ThrX-M_at</th>\n",
       "      <th>AFFX-TrpnX-3_at</th>\n",
       "      <th>AFFX-TrpnX-5_at</th>\n",
       "      <th>AFFX-TrpnX-M_at</th>\n",
       "    </tr>\n",
       "  </thead>\n",
       "  <tbody>\n",
       "    <tr>\n",
       "      <th>0</th>\n",
       "      <td>834</td>\n",
       "      <td>ependymoma</td>\n",
       "      <td>12.498150</td>\n",
       "      <td>7.604868</td>\n",
       "      <td>6.880934</td>\n",
       "      <td>9.027128</td>\n",
       "      <td>4.176175</td>\n",
       "      <td>7.224920</td>\n",
       "      <td>6.085942</td>\n",
       "      <td>6.835999</td>\n",
       "      <td>...</td>\n",
       "      <td>9.979005</td>\n",
       "      <td>9.926470</td>\n",
       "      <td>12.719785</td>\n",
       "      <td>12.777792</td>\n",
       "      <td>5.403657</td>\n",
       "      <td>4.870548</td>\n",
       "      <td>4.047380</td>\n",
       "      <td>3.721936</td>\n",
       "      <td>4.516434</td>\n",
       "      <td>4.749940</td>\n",
       "    </tr>\n",
       "    <tr>\n",
       "      <th>1</th>\n",
       "      <td>835</td>\n",
       "      <td>ependymoma</td>\n",
       "      <td>13.067436</td>\n",
       "      <td>7.998090</td>\n",
       "      <td>7.209076</td>\n",
       "      <td>9.723322</td>\n",
       "      <td>4.826126</td>\n",
       "      <td>7.539381</td>\n",
       "      <td>6.250962</td>\n",
       "      <td>8.012549</td>\n",
       "      <td>...</td>\n",
       "      <td>11.924749</td>\n",
       "      <td>11.215930</td>\n",
       "      <td>13.605662</td>\n",
       "      <td>13.401342</td>\n",
       "      <td>5.224555</td>\n",
       "      <td>4.895315</td>\n",
       "      <td>3.786437</td>\n",
       "      <td>3.564481</td>\n",
       "      <td>4.430891</td>\n",
       "      <td>4.491416</td>\n",
       "    </tr>\n",
       "    <tr>\n",
       "      <th>2</th>\n",
       "      <td>836</td>\n",
       "      <td>ependymoma</td>\n",
       "      <td>13.068179</td>\n",
       "      <td>8.573674</td>\n",
       "      <td>8.647684</td>\n",
       "      <td>9.613002</td>\n",
       "      <td>4.396581</td>\n",
       "      <td>7.813101</td>\n",
       "      <td>6.007746</td>\n",
       "      <td>7.178156</td>\n",
       "      <td>...</td>\n",
       "      <td>12.154405</td>\n",
       "      <td>11.532460</td>\n",
       "      <td>13.764593</td>\n",
       "      <td>13.477800</td>\n",
       "      <td>5.303565</td>\n",
       "      <td>5.052184</td>\n",
       "      <td>4.005343</td>\n",
       "      <td>3.595382</td>\n",
       "      <td>4.563494</td>\n",
       "      <td>4.668827</td>\n",
       "    </tr>\n",
       "    <tr>\n",
       "      <th>3</th>\n",
       "      <td>837</td>\n",
       "      <td>ependymoma</td>\n",
       "      <td>12.456040</td>\n",
       "      <td>9.098977</td>\n",
       "      <td>6.628784</td>\n",
       "      <td>8.517677</td>\n",
       "      <td>4.154847</td>\n",
       "      <td>8.361843</td>\n",
       "      <td>6.596064</td>\n",
       "      <td>6.347285</td>\n",
       "      <td>...</td>\n",
       "      <td>11.969072</td>\n",
       "      <td>11.288801</td>\n",
       "      <td>13.600828</td>\n",
       "      <td>13.379029</td>\n",
       "      <td>4.953429</td>\n",
       "      <td>4.708371</td>\n",
       "      <td>3.892318</td>\n",
       "      <td>3.759429</td>\n",
       "      <td>4.748381</td>\n",
       "      <td>4.521275</td>\n",
       "    </tr>\n",
       "    <tr>\n",
       "      <th>4</th>\n",
       "      <td>838</td>\n",
       "      <td>ependymoma</td>\n",
       "      <td>12.699958</td>\n",
       "      <td>8.800721</td>\n",
       "      <td>11.556188</td>\n",
       "      <td>9.166309</td>\n",
       "      <td>4.165891</td>\n",
       "      <td>7.923826</td>\n",
       "      <td>6.212754</td>\n",
       "      <td>6.866387</td>\n",
       "      <td>...</td>\n",
       "      <td>11.411701</td>\n",
       "      <td>11.169317</td>\n",
       "      <td>13.751442</td>\n",
       "      <td>13.803646</td>\n",
       "      <td>4.892677</td>\n",
       "      <td>4.773806</td>\n",
       "      <td>3.796856</td>\n",
       "      <td>3.577544</td>\n",
       "      <td>4.504385</td>\n",
       "      <td>4.541450</td>\n",
       "    </tr>\n",
       "  </tbody>\n",
       "</table>\n",
       "<p>5 rows × 54677 columns</p>\n",
       "</div>"
      ],
      "text/plain": [
       "   samples        type  1007_s_at   1053_at     117_at    121_at  1255_g_at  \\\n",
       "0      834  ependymoma  12.498150  7.604868   6.880934  9.027128   4.176175   \n",
       "1      835  ependymoma  13.067436  7.998090   7.209076  9.723322   4.826126   \n",
       "2      836  ependymoma  13.068179  8.573674   8.647684  9.613002   4.396581   \n",
       "3      837  ependymoma  12.456040  9.098977   6.628784  8.517677   4.154847   \n",
       "4      838  ependymoma  12.699958  8.800721  11.556188  9.166309   4.165891   \n",
       "\n",
       "    1294_at   1316_at   1320_at  ...  AFFX-r2-Ec-bioD-3_at  \\\n",
       "0  7.224920  6.085942  6.835999  ...              9.979005   \n",
       "1  7.539381  6.250962  8.012549  ...             11.924749   \n",
       "2  7.813101  6.007746  7.178156  ...             12.154405   \n",
       "3  8.361843  6.596064  6.347285  ...             11.969072   \n",
       "4  7.923826  6.212754  6.866387  ...             11.411701   \n",
       "\n",
       "   AFFX-r2-Ec-bioD-5_at  AFFX-r2-P1-cre-3_at  AFFX-r2-P1-cre-5_at  \\\n",
       "0              9.926470            12.719785            12.777792   \n",
       "1             11.215930            13.605662            13.401342   \n",
       "2             11.532460            13.764593            13.477800   \n",
       "3             11.288801            13.600828            13.379029   \n",
       "4             11.169317            13.751442            13.803646   \n",
       "\n",
       "   AFFX-ThrX-3_at  AFFX-ThrX-5_at  AFFX-ThrX-M_at  AFFX-TrpnX-3_at  \\\n",
       "0        5.403657        4.870548        4.047380         3.721936   \n",
       "1        5.224555        4.895315        3.786437         3.564481   \n",
       "2        5.303565        5.052184        4.005343         3.595382   \n",
       "3        4.953429        4.708371        3.892318         3.759429   \n",
       "4        4.892677        4.773806        3.796856         3.577544   \n",
       "\n",
       "   AFFX-TrpnX-5_at  AFFX-TrpnX-M_at  \n",
       "0         4.516434         4.749940  \n",
       "1         4.430891         4.491416  \n",
       "2         4.563494         4.668827  \n",
       "3         4.748381         4.521275  \n",
       "4         4.504385         4.541450  \n",
       "\n",
       "[5 rows x 54677 columns]"
      ]
     },
     "execution_count": 24,
     "metadata": {},
     "output_type": "execute_result"
    }
   ],
   "source": [
    "df = pd.read_csv(\"C:\\Ozy\\Data Science\\DS datasets\\Brain_GSE50161.csv\")\n",
    "df.head()"
   ]
  },
  {
   "cell_type": "markdown",
   "id": "e0b0406f-7054-4e5f-8a60-5f7d484d4e28",
   "metadata": {},
   "source": [
    "## Basic Information of dataset"
   ]
  },
  {
   "cell_type": "code",
   "execution_count": 25,
   "id": "9a51736c-0c2a-41c6-881e-32a28115f465",
   "metadata": {},
   "outputs": [
    {
     "name": "stdout",
     "output_type": "stream",
     "text": [
      "<class 'pandas.core.frame.DataFrame'>\n",
      "RangeIndex: 130 entries, 0 to 129\n",
      "Columns: 54677 entries, samples to AFFX-TrpnX-M_at\n",
      "dtypes: float64(54675), int64(1), object(1)\n",
      "memory usage: 54.2+ MB\n"
     ]
    }
   ],
   "source": [
    "df.info()"
   ]
  },
  {
   "cell_type": "markdown",
   "id": "3b59e0f2-8326-4377-973b-075463044106",
   "metadata": {},
   "source": [
    "## Summary of the dataset"
   ]
  },
  {
   "cell_type": "code",
   "execution_count": 26,
   "id": "4961a756-4406-412e-a0f6-f692d1204cb1",
   "metadata": {},
   "outputs": [
    {
     "data": {
      "text/html": [
       "<div>\n",
       "<style scoped>\n",
       "    .dataframe tbody tr th:only-of-type {\n",
       "        vertical-align: middle;\n",
       "    }\n",
       "\n",
       "    .dataframe tbody tr th {\n",
       "        vertical-align: top;\n",
       "    }\n",
       "\n",
       "    .dataframe thead th {\n",
       "        text-align: right;\n",
       "    }\n",
       "</style>\n",
       "<table border=\"1\" class=\"dataframe\">\n",
       "  <thead>\n",
       "    <tr style=\"text-align: right;\">\n",
       "      <th></th>\n",
       "      <th>samples</th>\n",
       "      <th>1007_s_at</th>\n",
       "      <th>1053_at</th>\n",
       "      <th>117_at</th>\n",
       "      <th>121_at</th>\n",
       "      <th>1255_g_at</th>\n",
       "      <th>1294_at</th>\n",
       "      <th>1316_at</th>\n",
       "      <th>1320_at</th>\n",
       "      <th>1405_i_at</th>\n",
       "      <th>...</th>\n",
       "      <th>AFFX-r2-Ec-bioD-3_at</th>\n",
       "      <th>AFFX-r2-Ec-bioD-5_at</th>\n",
       "      <th>AFFX-r2-P1-cre-3_at</th>\n",
       "      <th>AFFX-r2-P1-cre-5_at</th>\n",
       "      <th>AFFX-ThrX-3_at</th>\n",
       "      <th>AFFX-ThrX-5_at</th>\n",
       "      <th>AFFX-ThrX-M_at</th>\n",
       "      <th>AFFX-TrpnX-3_at</th>\n",
       "      <th>AFFX-TrpnX-5_at</th>\n",
       "      <th>AFFX-TrpnX-M_at</th>\n",
       "    </tr>\n",
       "  </thead>\n",
       "  <tbody>\n",
       "    <tr>\n",
       "      <th>count</th>\n",
       "      <td>130.000000</td>\n",
       "      <td>130.000000</td>\n",
       "      <td>130.000000</td>\n",
       "      <td>130.000000</td>\n",
       "      <td>130.000000</td>\n",
       "      <td>130.000000</td>\n",
       "      <td>130.000000</td>\n",
       "      <td>130.000000</td>\n",
       "      <td>130.000000</td>\n",
       "      <td>130.000000</td>\n",
       "      <td>...</td>\n",
       "      <td>130.000000</td>\n",
       "      <td>130.000000</td>\n",
       "      <td>130.000000</td>\n",
       "      <td>130.000000</td>\n",
       "      <td>130.000000</td>\n",
       "      <td>130.000000</td>\n",
       "      <td>130.000000</td>\n",
       "      <td>130.000000</td>\n",
       "      <td>130.000000</td>\n",
       "      <td>130.000000</td>\n",
       "    </tr>\n",
       "    <tr>\n",
       "      <th>mean</th>\n",
       "      <td>898.500000</td>\n",
       "      <td>12.276393</td>\n",
       "      <td>8.769583</td>\n",
       "      <td>7.722634</td>\n",
       "      <td>9.160209</td>\n",
       "      <td>4.842069</td>\n",
       "      <td>7.968388</td>\n",
       "      <td>6.800111</td>\n",
       "      <td>6.472452</td>\n",
       "      <td>6.068968</td>\n",
       "      <td>...</td>\n",
       "      <td>12.371075</td>\n",
       "      <td>11.812911</td>\n",
       "      <td>13.793913</td>\n",
       "      <td>13.619041</td>\n",
       "      <td>5.206208</td>\n",
       "      <td>4.811666</td>\n",
       "      <td>3.916795</td>\n",
       "      <td>3.701539</td>\n",
       "      <td>4.627912</td>\n",
       "      <td>4.633377</td>\n",
       "    </tr>\n",
       "    <tr>\n",
       "      <th>std</th>\n",
       "      <td>37.671829</td>\n",
       "      <td>0.790160</td>\n",
       "      <td>0.673396</td>\n",
       "      <td>1.037339</td>\n",
       "      <td>0.615369</td>\n",
       "      <td>0.922003</td>\n",
       "      <td>0.630260</td>\n",
       "      <td>0.537431</td>\n",
       "      <td>0.659847</td>\n",
       "      <td>0.904152</td>\n",
       "      <td>...</td>\n",
       "      <td>0.609813</td>\n",
       "      <td>0.618190</td>\n",
       "      <td>0.320124</td>\n",
       "      <td>0.309078</td>\n",
       "      <td>0.220767</td>\n",
       "      <td>0.219851</td>\n",
       "      <td>0.165917</td>\n",
       "      <td>0.180251</td>\n",
       "      <td>0.160663</td>\n",
       "      <td>0.192353</td>\n",
       "    </tr>\n",
       "    <tr>\n",
       "      <th>min</th>\n",
       "      <td>834.000000</td>\n",
       "      <td>10.156207</td>\n",
       "      <td>6.627878</td>\n",
       "      <td>6.222515</td>\n",
       "      <td>8.044421</td>\n",
       "      <td>3.682762</td>\n",
       "      <td>6.560920</td>\n",
       "      <td>5.910571</td>\n",
       "      <td>5.515079</td>\n",
       "      <td>4.491771</td>\n",
       "      <td>...</td>\n",
       "      <td>9.979005</td>\n",
       "      <td>9.926470</td>\n",
       "      <td>12.719785</td>\n",
       "      <td>12.777792</td>\n",
       "      <td>4.680072</td>\n",
       "      <td>4.247758</td>\n",
       "      <td>3.530287</td>\n",
       "      <td>3.432622</td>\n",
       "      <td>4.278812</td>\n",
       "      <td>4.050006</td>\n",
       "    </tr>\n",
       "    <tr>\n",
       "      <th>25%</th>\n",
       "      <td>866.250000</td>\n",
       "      <td>11.679721</td>\n",
       "      <td>8.378760</td>\n",
       "      <td>7.007678</td>\n",
       "      <td>8.595505</td>\n",
       "      <td>4.207043</td>\n",
       "      <td>7.533713</td>\n",
       "      <td>6.389605</td>\n",
       "      <td>5.935051</td>\n",
       "      <td>5.462356</td>\n",
       "      <td>...</td>\n",
       "      <td>12.056825</td>\n",
       "      <td>11.359850</td>\n",
       "      <td>13.605871</td>\n",
       "      <td>13.392790</td>\n",
       "      <td>5.031176</td>\n",
       "      <td>4.684169</td>\n",
       "      <td>3.807447</td>\n",
       "      <td>3.589381</td>\n",
       "      <td>4.530391</td>\n",
       "      <td>4.519694</td>\n",
       "    </tr>\n",
       "    <tr>\n",
       "      <th>50%</th>\n",
       "      <td>898.500000</td>\n",
       "      <td>12.502518</td>\n",
       "      <td>8.786242</td>\n",
       "      <td>7.521674</td>\n",
       "      <td>9.194487</td>\n",
       "      <td>4.462729</td>\n",
       "      <td>7.915062</td>\n",
       "      <td>6.654785</td>\n",
       "      <td>6.401447</td>\n",
       "      <td>5.856087</td>\n",
       "      <td>...</td>\n",
       "      <td>12.415320</td>\n",
       "      <td>11.768853</td>\n",
       "      <td>13.774338</td>\n",
       "      <td>13.614493</td>\n",
       "      <td>5.214618</td>\n",
       "      <td>4.785318</td>\n",
       "      <td>3.912025</td>\n",
       "      <td>3.674620</td>\n",
       "      <td>4.607167</td>\n",
       "      <td>4.603287</td>\n",
       "    </tr>\n",
       "    <tr>\n",
       "      <th>75%</th>\n",
       "      <td>930.750000</td>\n",
       "      <td>12.883374</td>\n",
       "      <td>9.211098</td>\n",
       "      <td>8.249157</td>\n",
       "      <td>9.707397</td>\n",
       "      <td>5.276685</td>\n",
       "      <td>8.385912</td>\n",
       "      <td>7.143818</td>\n",
       "      <td>6.985782</td>\n",
       "      <td>6.476124</td>\n",
       "      <td>...</td>\n",
       "      <td>12.757924</td>\n",
       "      <td>12.230375</td>\n",
       "      <td>13.969533</td>\n",
       "      <td>13.813191</td>\n",
       "      <td>5.324326</td>\n",
       "      <td>4.950025</td>\n",
       "      <td>4.009166</td>\n",
       "      <td>3.744824</td>\n",
       "      <td>4.718997</td>\n",
       "      <td>4.736634</td>\n",
       "    </tr>\n",
       "    <tr>\n",
       "      <th>max</th>\n",
       "      <td>963.000000</td>\n",
       "      <td>13.655639</td>\n",
       "      <td>10.716003</td>\n",
       "      <td>12.054143</td>\n",
       "      <td>10.407136</td>\n",
       "      <td>7.404503</td>\n",
       "      <td>10.164655</td>\n",
       "      <td>8.110006</td>\n",
       "      <td>8.812959</td>\n",
       "      <td>8.646862</td>\n",
       "      <td>...</td>\n",
       "      <td>13.480002</td>\n",
       "      <td>13.022222</td>\n",
       "      <td>14.476079</td>\n",
       "      <td>14.273778</td>\n",
       "      <td>5.904952</td>\n",
       "      <td>5.619512</td>\n",
       "      <td>4.547821</td>\n",
       "      <td>4.854368</td>\n",
       "      <td>5.420217</td>\n",
       "      <td>5.436919</td>\n",
       "    </tr>\n",
       "  </tbody>\n",
       "</table>\n",
       "<p>8 rows × 54676 columns</p>\n",
       "</div>"
      ],
      "text/plain": [
       "          samples   1007_s_at     1053_at      117_at      121_at   1255_g_at  \\\n",
       "count  130.000000  130.000000  130.000000  130.000000  130.000000  130.000000   \n",
       "mean   898.500000   12.276393    8.769583    7.722634    9.160209    4.842069   \n",
       "std     37.671829    0.790160    0.673396    1.037339    0.615369    0.922003   \n",
       "min    834.000000   10.156207    6.627878    6.222515    8.044421    3.682762   \n",
       "25%    866.250000   11.679721    8.378760    7.007678    8.595505    4.207043   \n",
       "50%    898.500000   12.502518    8.786242    7.521674    9.194487    4.462729   \n",
       "75%    930.750000   12.883374    9.211098    8.249157    9.707397    5.276685   \n",
       "max    963.000000   13.655639   10.716003   12.054143   10.407136    7.404503   \n",
       "\n",
       "          1294_at     1316_at     1320_at   1405_i_at  ...  \\\n",
       "count  130.000000  130.000000  130.000000  130.000000  ...   \n",
       "mean     7.968388    6.800111    6.472452    6.068968  ...   \n",
       "std      0.630260    0.537431    0.659847    0.904152  ...   \n",
       "min      6.560920    5.910571    5.515079    4.491771  ...   \n",
       "25%      7.533713    6.389605    5.935051    5.462356  ...   \n",
       "50%      7.915062    6.654785    6.401447    5.856087  ...   \n",
       "75%      8.385912    7.143818    6.985782    6.476124  ...   \n",
       "max     10.164655    8.110006    8.812959    8.646862  ...   \n",
       "\n",
       "       AFFX-r2-Ec-bioD-3_at  AFFX-r2-Ec-bioD-5_at  AFFX-r2-P1-cre-3_at  \\\n",
       "count            130.000000            130.000000           130.000000   \n",
       "mean              12.371075             11.812911            13.793913   \n",
       "std                0.609813              0.618190             0.320124   \n",
       "min                9.979005              9.926470            12.719785   \n",
       "25%               12.056825             11.359850            13.605871   \n",
       "50%               12.415320             11.768853            13.774338   \n",
       "75%               12.757924             12.230375            13.969533   \n",
       "max               13.480002             13.022222            14.476079   \n",
       "\n",
       "       AFFX-r2-P1-cre-5_at  AFFX-ThrX-3_at  AFFX-ThrX-5_at  AFFX-ThrX-M_at  \\\n",
       "count           130.000000      130.000000      130.000000      130.000000   \n",
       "mean             13.619041        5.206208        4.811666        3.916795   \n",
       "std               0.309078        0.220767        0.219851        0.165917   \n",
       "min              12.777792        4.680072        4.247758        3.530287   \n",
       "25%              13.392790        5.031176        4.684169        3.807447   \n",
       "50%              13.614493        5.214618        4.785318        3.912025   \n",
       "75%              13.813191        5.324326        4.950025        4.009166   \n",
       "max              14.273778        5.904952        5.619512        4.547821   \n",
       "\n",
       "       AFFX-TrpnX-3_at  AFFX-TrpnX-5_at  AFFX-TrpnX-M_at  \n",
       "count       130.000000       130.000000       130.000000  \n",
       "mean          3.701539         4.627912         4.633377  \n",
       "std           0.180251         0.160663         0.192353  \n",
       "min           3.432622         4.278812         4.050006  \n",
       "25%           3.589381         4.530391         4.519694  \n",
       "50%           3.674620         4.607167         4.603287  \n",
       "75%           3.744824         4.718997         4.736634  \n",
       "max           4.854368         5.420217         5.436919  \n",
       "\n",
       "[8 rows x 54676 columns]"
      ]
     },
     "execution_count": 26,
     "metadata": {},
     "output_type": "execute_result"
    }
   ],
   "source": [
    "df.describe()"
   ]
  },
  {
   "cell_type": "markdown",
   "id": "31094905-ebc2-4212-acb7-d1b081449151",
   "metadata": {},
   "source": [
    "## Checking Missing values in DataFrame"
   ]
  },
  {
   "cell_type": "code",
   "execution_count": 27,
   "id": "7fb8c691-8b89-441a-8a3b-b02fd8ba96a6",
   "metadata": {},
   "outputs": [
    {
     "data": {
      "text/plain": [
       "samples            0\n",
       "type               0\n",
       "1007_s_at          0\n",
       "1053_at            0\n",
       "117_at             0\n",
       "                  ..\n",
       "AFFX-ThrX-5_at     0\n",
       "AFFX-ThrX-M_at     0\n",
       "AFFX-TrpnX-3_at    0\n",
       "AFFX-TrpnX-5_at    0\n",
       "AFFX-TrpnX-M_at    0\n",
       "Length: 54677, dtype: int64"
      ]
     },
     "execution_count": 27,
     "metadata": {},
     "output_type": "execute_result"
    }
   ],
   "source": [
    "df.isnull().sum()"
   ]
  },
  {
   "cell_type": "markdown",
   "id": "dcd64434-6289-4c45-908b-53d3fffcc74f",
   "metadata": {},
   "source": [
    "## Encode Categorical Variables"
   ]
  },
  {
   "cell_type": "code",
   "execution_count": 28,
   "id": "a5f708ee-7618-41c8-a843-00725feb9fcd",
   "metadata": {},
   "outputs": [],
   "source": [
    "# Encode categorical column 'type'\n",
    "df['type'] = df['type'].astype('category').cat.codes"
   ]
  },
  {
   "cell_type": "markdown",
   "id": "fe3788a3-f9e8-4f03-b80e-b6419a7ed1eb",
   "metadata": {},
   "source": [
    "- Convert the type column to numeric using categorical encoding"
   ]
  },
  {
   "cell_type": "markdown",
   "id": "8d6e6ae5-4e22-4493-81e0-72397c996801",
   "metadata": {},
   "source": [
    "## Standardization"
   ]
  },
  {
   "cell_type": "code",
   "execution_count": 29,
   "id": "5e2301a0-2be3-4aaf-a5f4-499786bc9172",
   "metadata": {},
   "outputs": [],
   "source": [
    "from sklearn.preprocessing import StandardScaler\n",
    "\n",
    "# Separate features and target\n",
    "X = df.drop(columns=['samples', 'type'])\n",
    "y = df['type']\n",
    "\n",
    "# Standardize the features\n",
    "scaler = StandardScaler()\n",
    "X_scaled = scaler.fit_transform(X)\n"
   ]
  },
  {
   "cell_type": "markdown",
   "id": "76cb511b-b3bb-4efe-9d51-e8d48d2d5c13",
   "metadata": {},
   "source": [
    "- Normalize or standardize the gene expression columns to ensure uniform scaling before applying PCA and t-SNE."
   ]
  },
  {
   "cell_type": "markdown",
   "id": "64c41d26-048b-44f5-a20d-0cf2b62884d7",
   "metadata": {},
   "source": [
    "## Dimensionality Reduction with PCA"
   ]
  },
  {
   "cell_type": "code",
   "execution_count": 30,
   "id": "4802cac4-0ce8-4454-a44f-db394a7dad55",
   "metadata": {},
   "outputs": [],
   "source": [
    "from sklearn.decomposition import PCA\n",
    "\n",
    "# Apply PCA\n",
    "pca = PCA(n_components=50)  # Reduce to 50 components as an example\n",
    "X_pca = pca.fit_transform(X_scaled)"
   ]
  },
  {
   "cell_type": "markdown",
   "id": "365b5a52-e417-48b4-b6f3-4cb3cf900bfc",
   "metadata": {},
   "source": [
    "- Apply PCA to reduce the dimensionality of the data before applying t-SNE."
   ]
  },
  {
   "cell_type": "markdown",
   "id": "3ca1be74-19d9-48d6-91eb-7632a5740cc9",
   "metadata": {},
   "source": [
    "## Splitting the Dataset"
   ]
  },
  {
   "cell_type": "code",
   "execution_count": 31,
   "id": "9e140ac4-3a21-4254-aa3c-8ab181c0a012",
   "metadata": {},
   "outputs": [
    {
     "name": "stdout",
     "output_type": "stream",
     "text": [
      "Training set shape: (104, 50)\n",
      "Testing set shape: (26, 50)\n"
     ]
    }
   ],
   "source": [
    "from sklearn.model_selection import train_test_split\n",
    "\n",
    "# Split the dataset\n",
    "X_train, X_test, y_train, y_test = train_test_split(X_pca, y, test_size=0.2, random_state=42)\n",
    "\n",
    "# Display shapes\n",
    "print(\"Training set shape:\", X_train.shape)\n",
    "print(\"Testing set shape:\", X_test.shape)\n"
   ]
  },
  {
   "cell_type": "markdown",
   "id": "cb0eba24-fa89-43f8-9b40-545bc874ceec",
   "metadata": {},
   "source": [
    "- train_test_split: Splits the dataset into training and testing sets. Here, 20% of the data is used for testing, and the remaining 80% is used for training.\n",
    "- Random State: Ensures that the split is reproducible."
   ]
  },
  {
   "cell_type": "markdown",
   "id": "75af3366-4f36-4539-96b5-c6316fcaa29e",
   "metadata": {},
   "source": [
    "## T-SNE Construction"
   ]
  },
  {
   "cell_type": "code",
   "execution_count": 32,
   "id": "49c32a22-003c-42f4-80f3-ad5ae3343f4a",
   "metadata": {},
   "outputs": [],
   "source": [
    "from sklearn.manifold import TSNE\n",
    "\n",
    "# Implement t-SNE\n",
    "tsne = TSNE(n_components=2, perplexity=30, learning_rate=200, random_state=42)"
   ]
  },
  {
   "cell_type": "markdown",
   "id": "b85c14ea-c1a4-40ad-a541-bdd8e2305808",
   "metadata": {},
   "source": [
    "- Perplexity: Controls the balance between local and global aspects of the data. Typically, values between 5 and 50 work well.\n",
    "- Learning Rate: Controls how much the algorithm adjusts during optimization. A good range is between 10 and 1000."
   ]
  },
  {
   "cell_type": "markdown",
   "id": "4d5d7a48-dbcb-46da-837b-b644190b49e8",
   "metadata": {},
   "source": [
    "## Train t-SNE model on the training data"
   ]
  },
  {
   "cell_type": "code",
   "execution_count": 33,
   "id": "07ea86b8-0855-4ed2-a45e-6c8b83444c34",
   "metadata": {},
   "outputs": [
    {
     "data": {
      "text/plain": [
       "array([[ 3.3597848 ,  2.1585917 ],\n",
       "       [ 3.673761  ,  2.4422426 ],\n",
       "       [-4.676242  , -1.3484362 ],\n",
       "       [-2.9027293 , -6.755629  ],\n",
       "       [-2.825653  , -5.1032243 ],\n",
       "       [ 5.3495374 ,  3.4057665 ],\n",
       "       [-5.6555023 , -3.7971735 ],\n",
       "       [-3.5039551 , -3.4597518 ],\n",
       "       [-1.3393592 , -2.8671486 ],\n",
       "       [ 4.313897  , -0.64503837],\n",
       "       [ 5.2511525 ,  6.2539177 ],\n",
       "       [ 0.7366642 ,  3.2150598 ],\n",
       "       [ 3.1505656 ,  2.5755625 ],\n",
       "       [ 0.01072129,  3.1852446 ],\n",
       "       [ 3.058336  ,  6.4208736 ],\n",
       "       [ 6.4812126 ,  2.9190543 ],\n",
       "       [ 0.24888016,  6.0459886 ],\n",
       "       [ 2.7123146 ,  4.532762  ],\n",
       "       [ 6.5036864 ,  3.6237867 ],\n",
       "       [-2.5124238 , -1.6418134 ],\n",
       "       [-3.822251  , -5.346341  ],\n",
       "       [ 2.9424794 ,  5.872331  ],\n",
       "       [-1.6396536 , -5.052835  ],\n",
       "       [-3.3964846 , -4.0968237 ],\n",
       "       [-2.589982  , -1.551662  ],\n",
       "       [ 1.3150729 ,  2.4707932 ],\n",
       "       [ 0.28096554,  5.9311233 ],\n",
       "       [ 5.355754  ,  2.8626573 ],\n",
       "       [-4.8843007 , -4.8171935 ],\n",
       "       [-3.0024142 , -5.5247107 ],\n",
       "       [-1.4634117 , -5.9548254 ],\n",
       "       [ 3.869845  ,  2.6241567 ],\n",
       "       [ 3.442733  ,  4.3473463 ],\n",
       "       [ 5.1411333 ,  4.8628674 ],\n",
       "       [ 2.395114  ,  3.833267  ],\n",
       "       [-4.471741  , -3.9869494 ],\n",
       "       [ 4.893144  ,  2.5903468 ],\n",
       "       [-3.1204195 , -3.1067152 ],\n",
       "       [ 6.966809  ,  1.4473412 ],\n",
       "       [-3.4607377 , -5.4046383 ],\n",
       "       [ 3.0708685 ,  5.0917096 ],\n",
       "       [ 3.415752  ,  2.3734841 ],\n",
       "       [ 5.1403527 , -1.8310924 ],\n",
       "       [ 5.678615  , -0.6361622 ],\n",
       "       [-3.521167  , -5.456718  ],\n",
       "       [-0.26593256,  3.3387969 ],\n",
       "       [ 1.1287246 ,  7.230772  ],\n",
       "       [ 2.2764354 ,  5.1220694 ],\n",
       "       [-3.0442975 , -3.4228706 ],\n",
       "       [ 3.1021876 ,  4.2181454 ],\n",
       "       [-5.5794635 , -2.2094805 ],\n",
       "       [-1.6870474 ,  1.85387   ],\n",
       "       [-4.411118  , -4.0810347 ],\n",
       "       [-5.0068245 ,  0.22255942],\n",
       "       [ 4.525873  , -0.68282497],\n",
       "       [ 2.9066305 , -1.922029  ],\n",
       "       [-3.8453605 , -0.82290924],\n",
       "       [ 4.827391  ,  4.320915  ],\n",
       "       [-2.4126701 , -6.581462  ],\n",
       "       [-1.3502225 , -1.8673394 ],\n",
       "       [ 3.9686832 , -1.0406002 ],\n",
       "       [ 0.4915426 ,  2.2271235 ],\n",
       "       [ 5.2439146 ,  3.3173428 ],\n",
       "       [ 4.4640937 ,  3.6079123 ],\n",
       "       [ 5.1225057 ,  3.8937504 ],\n",
       "       [-3.153807  ,  0.45900202],\n",
       "       [ 4.1208563 ,  5.3729825 ],\n",
       "       [-4.4457297 , -1.4423763 ],\n",
       "       [-3.7862735 ,  0.5994104 ],\n",
       "       [ 5.9113326 ,  4.433634  ],\n",
       "       [-3.8743272 ,  1.5439594 ],\n",
       "       [ 2.9483058 , -1.8784585 ],\n",
       "       [-4.7286396 , -2.5749855 ],\n",
       "       [ 4.5183525 ,  1.687479  ],\n",
       "       [-2.8534944 , -6.841642  ],\n",
       "       [ 5.432317  ,  3.6690867 ],\n",
       "       [-4.211191  , -1.4533436 ],\n",
       "       [ 7.101068  ,  5.0234027 ],\n",
       "       [ 0.13814309, -3.4228263 ],\n",
       "       [ 2.787568  ,  3.914245  ],\n",
       "       [ 2.2790992 ,  4.4853835 ],\n",
       "       [ 3.82004   , -1.1415936 ],\n",
       "       [-1.8622777 , -1.8004752 ],\n",
       "       [-1.9339801 , -3.8404753 ],\n",
       "       [-3.4038832 , -1.730159  ],\n",
       "       [-2.346615  , -3.1913505 ],\n",
       "       [-3.3163755 , -2.747181  ],\n",
       "       [ 0.735842  ,  2.7653873 ],\n",
       "       [ 0.75169736, -3.1572535 ],\n",
       "       [ 0.34548458,  6.0493937 ],\n",
       "       [-4.8037105 ,  1.4990089 ],\n",
       "       [-4.962609  , -5.143051  ],\n",
       "       [ 4.4678254 ,  0.31199765],\n",
       "       [-4.6973495 ,  0.2838539 ],\n",
       "       [-4.6896048 ,  1.4379984 ],\n",
       "       [-2.8447697 , -2.0964272 ],\n",
       "       [ 5.062867  ,  2.4917815 ],\n",
       "       [-3.3204257 , -3.0627341 ],\n",
       "       [-6.0857325 , -1.2852356 ],\n",
       "       [-6.0667486 , -2.215285  ],\n",
       "       [ 4.2176857 , -0.8074197 ],\n",
       "       [-2.7237914 , -3.7583997 ],\n",
       "       [ 0.95669925,  6.8241963 ],\n",
       "       [ 5.946795  , -0.8296865 ]], dtype=float32)"
      ]
     },
     "execution_count": 33,
     "metadata": {},
     "output_type": "execute_result"
    }
   ],
   "source": [
    "X_tsne = tsne.fit_transform(X_train)\n",
    "X_tsne"
   ]
  },
  {
   "cell_type": "markdown",
   "id": "20ce6e5e-83ea-4ad4-9e37-7427d93b176b",
   "metadata": {},
   "source": [
    "## Analyze Cluster Formations"
   ]
  },
  {
   "cell_type": "markdown",
   "id": "8a195238-492b-4243-878f-f4e23267f7cb",
   "metadata": {},
   "source": [
    "- Cluster Identification: Look for distinct groupings or clusters in the scatter plot. Clusters should ideally represent meaningful groupings based on the underlying data.\n",
    "- Homogeneity: Check if points within the same cluster are closely packed together, indicating that t-SNE has captured similar data points well.\n",
    "- Separation: Evaluate how well-separated different clusters are. Well-separated clusters suggest that t-SNE has effectively captured the differences between different categories or classes."
   ]
  },
  {
   "cell_type": "markdown",
   "id": "b1cb0061-6c2f-4182-b57d-561461fdf4b3",
   "metadata": {},
   "source": [
    "## Visualize the t-SNE results"
   ]
  },
  {
   "cell_type": "code",
   "execution_count": 34,
   "id": "812cdcf6-66b5-445d-8e1d-7586826822c9",
   "metadata": {},
   "outputs": [
    {
     "data": {
      "image/png": "[encoded data removed]",
      "text/plain": [
       "<Figure size 1000x600 with 2 Axes>"
      ]
     },
     "metadata": {},
     "output_type": "display_data"
    }
   ],
   "source": [
    "plt.figure(figsize=(10, 6))\n",
    "scatter = plt.scatter(X_tsne[:, 0], X_tsne[:, 1], c=y_train, cmap='viridis', s=50, alpha=0.7)\n",
    "plt.colorbar(scatter, label='Type')\n",
    "plt.title('t-SNE Visualization of Gene Expression Data')\n",
    "plt.xlabel('t-SNE Component 1')\n",
    "plt.ylabel('t-SNE Component 2')\n",
    "plt.show()"
   ]
  },
  {
   "cell_type": "markdown",
   "id": "443cac0d-ce79-4d5f-a089-ea9cdcf57946",
   "metadata": {},
   "source": [
    "- X_train_tsne[:, 0] and X_train_tsne[:, 1]: These represent the 2D coordinates of the data points after t-SNE transformation.\n",
    "- c=y_train: Colors the points according to their labels, helping to differentiate clusters or categories.\n",
    "- cmap='viridis': A colormap to make the plot visually appealing and distinguishable.\n",
    "- alpha=0.7: Adds slight transparency to better visualize overlapping points."
   ]
  },
  {
   "cell_type": "markdown",
   "id": "74147ebf-20d7-45e1-b4d6-83229f9875db",
   "metadata": {},
   "source": [
    "- fit_transform trains the t-SNE model and reduces the dimensionality of the data to 2D.\n",
    "- The scatter plot visualizes the t-SNE results, coloring points based on the type column to show clustering patterns."
   ]
  },
  {
   "cell_type": "markdown",
   "id": "6f22e604-565c-4c03-a866-e451b5a1689e",
   "metadata": {},
   "source": [
    "## Hyperparameter Tuning with Grid Search"
   ]
  },
  {
   "cell_type": "code",
   "execution_count": 35,
   "id": "b1ad2b97-bf64-433c-ada8-9a8a06be2ffd",
   "metadata": {},
   "outputs": [
    {
     "name": "stdout",
     "output_type": "stream",
     "text": [
      "Best Parameters: {'perplexity': 5, 'learning_rate': 200}\n",
      "Best Silhouette Score: 0.08727651089429855\n"
     ]
    }
   ],
   "source": [
    "from sklearn.manifold import TSNE\n",
    "from sklearn.model_selection import GridSearchCV\n",
    "from sklearn.manifold import TSNE\n",
    "from sklearn.metrics import silhouette_score\n",
    "import numpy as np\n",
    "\n",
    "# Define the parameter grid for t-SNE\n",
    "param_grid = {\n",
    "    'perplexity': [5, 10, 30, 50, 100],\n",
    "    'learning_rate': [10, 50, 100, 200, 500]\n",
    "}\n",
    "\n",
    "# Function to evaluate t-SNE with different parameters\n",
    "def evaluate_clustering(X_train, y_train, perplexity, learning_rate):\n",
    "    tsne = TSNE(n_components=2, perplexity=perplexity, learning_rate=learning_rate, random_state=42)\n",
    "    X_tsne = tsne.fit_transform(X_train)\n",
    "    return silhouette_score(X_tsne, y_train, metric='euclidean')\n",
    "\n",
    "# Grid search for hyperparameters\n",
    "best_score = -np.inf\n",
    "best_params = {}\n",
    "\n",
    "for perplexity in param_grid['perplexity']:\n",
    "    for learning_rate in param_grid['learning_rate']:\n",
    "        score = evaluate_clustering(X_train, y_train, perplexity, learning_rate)\n",
    "        if score > best_score:\n",
    "            best_score = score\n",
    "            best_params = {'perplexity': perplexity, 'learning_rate': learning_rate}\n",
    "\n",
    "print(f\"Best Parameters: {best_params}\")\n",
    "print(f\"Best Silhouette Score: {best_score}\")"
   ]
  },
  {
   "cell_type": "markdown",
   "id": "8d849723-548d-4a16-80db-5ec35500636a",
   "metadata": {},
   "source": [
    "- evaluate_clustering(X_tsne, number_of_clusters): This function performs KMeans clustering on the t-SNE-transformed data and computes the silhouette score, which measures how well-separated the clusters are.\n",
    "- Iterate over the defined range of perplexities and learning rates.\n",
    "- For each combination, apply t-SNE and transform the scaled training data.\n",
    "- Evaluate the clustering quality using the silhouette score.\n",
    "- Keep track of the best performing perplexity and learning rate based on the silhouette score.\n",
    "- After the grid search, print the best hyperparameters and the corresponding silhouette score."
   ]
  },
  {
   "cell_type": "markdown",
   "id": "0e628e67-56a8-4da8-a71a-7639b145d4f4",
   "metadata": {},
   "source": [
    "## Optimized t-SNE Visualization"
   ]
  },
  {
   "cell_type": "code",
   "execution_count": 36,
   "id": "15578912-d148-419f-b561-c53c985257e1",
   "metadata": {},
   "outputs": [
    {
     "data": {
      "image/png": "[encoded data removed]",
      "text/plain": [
       "<Figure size 1000x600 with 2 Axes>"
      ]
     },
     "metadata": {},
     "output_type": "display_data"
    }
   ],
   "source": [
    "plt.figure(figsize=(10, 6))\n",
    "scatter = plt.scatter(X_tsne[:, 0], X_tsne[:, 1], c=y_train, cmap='viridis', s=50, alpha=0.7)\n",
    "plt.colorbar(scatter, label='Type')\n",
    "plt.title('Optimized t-SNE Visualization of Gene Expression Data')\n",
    "plt.xlabel('t-SNE Component 1')\n",
    "plt.ylabel('t-SNE Component 2')\n",
    "plt.show()"
   ]
  },
  {
   "cell_type": "markdown",
   "id": "1597583d-46a5-432d-aae7-f68529de8100",
   "metadata": {},
   "source": [
    "## Summary"
   ]
  },
  {
   "cell_type": "markdown",
   "id": "9970630c-e98e-4539-aa79-27759dba5194",
   "metadata": {},
   "source": [
    "- After performing hyperparameter tuning on the Brain Cancer Gene Expression - CuMiDa dataset, the best parameters identified were a perplexity of 50 and a learning rate of 50, resulting in a silhouette score of 0.0887.\n",
    "- Despite these optimizations, no significant changes were observed in the t-SNE visualizations, suggesting that further tuning or alternative approaches might be needed to enhance the clarity of the clusters."
   ]
  }
 ],
 "metadata": {
  "kernelspec": {
   "display_name": "Python 3 (ipykernel)",
   "language": "python",
   "name": "python3"
  },
  "language_info": {
   "codemirror_mode": {
    "name": "ipython",
    "version": 3
   },
   "file_extension": ".py",
   "mimetype": "text/x-python",
   "name": "python",
   "nbconvert_exporter": "python",
   "pygments_lexer": "ipython3",
   "version": "3.11.5"
  }
 },
 "nbformat": 4,
 "nbformat_minor": 5
}
