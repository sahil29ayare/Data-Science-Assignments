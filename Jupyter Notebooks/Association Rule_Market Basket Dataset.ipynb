{
 "cells": [
  {
   "cell_type": "markdown",
   "id": "492b7024-6dbe-42e3-bb42-4404bcff1fd3",
   "metadata": {},
   "source": [
    "# Association Rule Assignment | Market Basket Analysis Dataset"
   ]
  },
  {
   "cell_type": "markdown",
   "id": "a4cabdd7-fd22-4e21-b1d4-7d6769c72690",
   "metadata": {},
   "source": [
    "## Import Libraries"
   ]
  },
  {
   "cell_type": "code",
   "execution_count": 26,
   "id": "63071cd8-f2cc-4fae-9fe3-76b440aafc0e",
   "metadata": {},
   "outputs": [],
   "source": [
    "import numpy as np\n",
    "import pandas as pd\n",
    "from mlxtend.frequent_patterns import apriori, association_rules\n",
    "import matplotlib.pyplot as plt"
   ]
  },
  {
   "cell_type": "markdown",
   "id": "ed9cf7a6-f845-4cc9-8ff5-3fbfaede1375",
   "metadata": {},
   "source": [
    "## Load the Dataset"
   ]
  },
  {
   "cell_type": "code",
   "execution_count": 27,
   "id": "46df98bb-b49c-42cc-8493-060057dfd6be",
   "metadata": {},
   "outputs": [
    {
     "data": {
      "text/html": [
       "<div>\n",
       "<style scoped>\n",
       "    .dataframe tbody tr th:only-of-type {\n",
       "        vertical-align: middle;\n",
       "    }\n",
       "\n",
       "    .dataframe tbody tr th {\n",
       "        vertical-align: top;\n",
       "    }\n",
       "\n",
       "    .dataframe thead th {\n",
       "        text-align: right;\n",
       "    }\n",
       "</style>\n",
       "<table border=\"1\" class=\"dataframe\">\n",
       "  <thead>\n",
       "    <tr style=\"text-align: right;\">\n",
       "      <th></th>\n",
       "      <th>Unnamed: 0</th>\n",
       "      <th>Apple</th>\n",
       "      <th>Bread</th>\n",
       "      <th>Butter</th>\n",
       "      <th>Cheese</th>\n",
       "      <th>Corn</th>\n",
       "      <th>Dill</th>\n",
       "      <th>Eggs</th>\n",
       "      <th>Ice cream</th>\n",
       "      <th>Kidney Beans</th>\n",
       "      <th>Milk</th>\n",
       "      <th>Nutmeg</th>\n",
       "      <th>Onion</th>\n",
       "      <th>Sugar</th>\n",
       "      <th>Unicorn</th>\n",
       "      <th>Yogurt</th>\n",
       "      <th>chocolate</th>\n",
       "    </tr>\n",
       "  </thead>\n",
       "  <tbody>\n",
       "    <tr>\n",
       "      <th>0</th>\n",
       "      <td>0</td>\n",
       "      <td>False</td>\n",
       "      <td>True</td>\n",
       "      <td>False</td>\n",
       "      <td>False</td>\n",
       "      <td>True</td>\n",
       "      <td>True</td>\n",
       "      <td>False</td>\n",
       "      <td>True</td>\n",
       "      <td>False</td>\n",
       "      <td>False</td>\n",
       "      <td>False</td>\n",
       "      <td>False</td>\n",
       "      <td>True</td>\n",
       "      <td>False</td>\n",
       "      <td>True</td>\n",
       "      <td>True</td>\n",
       "    </tr>\n",
       "    <tr>\n",
       "      <th>1</th>\n",
       "      <td>1</td>\n",
       "      <td>False</td>\n",
       "      <td>False</td>\n",
       "      <td>False</td>\n",
       "      <td>False</td>\n",
       "      <td>False</td>\n",
       "      <td>False</td>\n",
       "      <td>False</td>\n",
       "      <td>False</td>\n",
       "      <td>False</td>\n",
       "      <td>True</td>\n",
       "      <td>False</td>\n",
       "      <td>False</td>\n",
       "      <td>False</td>\n",
       "      <td>False</td>\n",
       "      <td>False</td>\n",
       "      <td>False</td>\n",
       "    </tr>\n",
       "    <tr>\n",
       "      <th>2</th>\n",
       "      <td>2</td>\n",
       "      <td>True</td>\n",
       "      <td>False</td>\n",
       "      <td>True</td>\n",
       "      <td>False</td>\n",
       "      <td>False</td>\n",
       "      <td>True</td>\n",
       "      <td>False</td>\n",
       "      <td>True</td>\n",
       "      <td>False</td>\n",
       "      <td>True</td>\n",
       "      <td>False</td>\n",
       "      <td>False</td>\n",
       "      <td>False</td>\n",
       "      <td>False</td>\n",
       "      <td>True</td>\n",
       "      <td>True</td>\n",
       "    </tr>\n",
       "    <tr>\n",
       "      <th>3</th>\n",
       "      <td>3</td>\n",
       "      <td>False</td>\n",
       "      <td>False</td>\n",
       "      <td>True</td>\n",
       "      <td>True</td>\n",
       "      <td>False</td>\n",
       "      <td>True</td>\n",
       "      <td>False</td>\n",
       "      <td>False</td>\n",
       "      <td>False</td>\n",
       "      <td>True</td>\n",
       "      <td>True</td>\n",
       "      <td>True</td>\n",
       "      <td>False</td>\n",
       "      <td>False</td>\n",
       "      <td>False</td>\n",
       "      <td>False</td>\n",
       "    </tr>\n",
       "    <tr>\n",
       "      <th>4</th>\n",
       "      <td>4</td>\n",
       "      <td>True</td>\n",
       "      <td>True</td>\n",
       "      <td>False</td>\n",
       "      <td>False</td>\n",
       "      <td>False</td>\n",
       "      <td>False</td>\n",
       "      <td>False</td>\n",
       "      <td>False</td>\n",
       "      <td>False</td>\n",
       "      <td>False</td>\n",
       "      <td>False</td>\n",
       "      <td>False</td>\n",
       "      <td>False</td>\n",
       "      <td>False</td>\n",
       "      <td>False</td>\n",
       "      <td>False</td>\n",
       "    </tr>\n",
       "  </tbody>\n",
       "</table>\n",
       "</div>"
      ],
      "text/plain": [
       "   Unnamed: 0  Apple  Bread  Butter  Cheese   Corn   Dill   Eggs  Ice cream  \\\n",
       "0           0  False   True   False   False   True   True  False       True   \n",
       "1           1  False  False   False   False  False  False  False      False   \n",
       "2           2   True  False    True   False  False   True  False       True   \n",
       "3           3  False  False    True    True  False   True  False      False   \n",
       "4           4   True   True   False   False  False  False  False      False   \n",
       "\n",
       "   Kidney Beans   Milk  Nutmeg  Onion  Sugar  Unicorn  Yogurt  chocolate  \n",
       "0         False  False   False  False   True    False    True       True  \n",
       "1         False   True   False  False  False    False   False      False  \n",
       "2         False   True   False  False  False    False    True       True  \n",
       "3         False   True    True   True  False    False   False      False  \n",
       "4         False  False   False  False  False    False   False      False  "
      ]
     },
     "execution_count": 27,
     "metadata": {},
     "output_type": "execute_result"
    }
   ],
   "source": [
    "df = pd.read_csv(r\"C:\\Ozy\\Data Science\\DS datasets\\basket_analysis.csv\")\n",
    "df.head()"
   ]
  },
  {
   "cell_type": "markdown",
   "id": "14f34c89-8104-4c6b-8b3c-43bd5b6b3b6b",
   "metadata": {},
   "source": [
    "## Basic Information of Dataset"
   ]
  },
  {
   "cell_type": "code",
   "execution_count": 28,
   "id": "7b45e1f0-f458-4a23-8592-bb0b54ca1ef0",
   "metadata": {},
   "outputs": [
    {
     "name": "stdout",
     "output_type": "stream",
     "text": [
      "<class 'pandas.core.frame.DataFrame'>\n",
      "RangeIndex: 999 entries, 0 to 998\n",
      "Data columns (total 17 columns):\n",
      " #   Column        Non-Null Count  Dtype\n",
      "---  ------        --------------  -----\n",
      " 0   Unnamed: 0    999 non-null    int64\n",
      " 1   Apple         999 non-null    bool \n",
      " 2   Bread         999 non-null    bool \n",
      " 3   Butter        999 non-null    bool \n",
      " 4   Cheese        999 non-null    bool \n",
      " 5   Corn          999 non-null    bool \n",
      " 6   Dill          999 non-null    bool \n",
      " 7   Eggs          999 non-null    bool \n",
      " 8   Ice cream     999 non-null    bool \n",
      " 9   Kidney Beans  999 non-null    bool \n",
      " 10  Milk          999 non-null    bool \n",
      " 11  Nutmeg        999 non-null    bool \n",
      " 12  Onion         999 non-null    bool \n",
      " 13  Sugar         999 non-null    bool \n",
      " 14  Unicorn       999 non-null    bool \n",
      " 15  Yogurt        999 non-null    bool \n",
      " 16  chocolate     999 non-null    bool \n",
      "dtypes: bool(16), int64(1)\n",
      "memory usage: 23.5 KB\n"
     ]
    }
   ],
   "source": [
    "df.info()"
   ]
  },
  {
   "cell_type": "markdown",
   "id": "71dd85b1-248d-454f-8660-c9a289a7b036",
   "metadata": {},
   "source": [
    "## Checking Missing values in DataFrame"
   ]
  },
  {
   "cell_type": "code",
   "execution_count": 29,
   "id": "e80730ab-2fa5-46da-a2c5-8056a1722e6c",
   "metadata": {},
   "outputs": [
    {
     "data": {
      "text/plain": [
       "Unnamed: 0      0\n",
       "Apple           0\n",
       "Bread           0\n",
       "Butter          0\n",
       "Cheese          0\n",
       "Corn            0\n",
       "Dill            0\n",
       "Eggs            0\n",
       "Ice cream       0\n",
       "Kidney Beans    0\n",
       "Milk            0\n",
       "Nutmeg          0\n",
       "Onion           0\n",
       "Sugar           0\n",
       "Unicorn         0\n",
       "Yogurt          0\n",
       "chocolate       0\n",
       "dtype: int64"
      ]
     },
     "execution_count": 29,
     "metadata": {},
     "output_type": "execute_result"
    }
   ],
   "source": [
    "df.isnull().sum()"
   ]
  },
  {
   "cell_type": "markdown",
   "id": "b526a627-448b-4311-b810-fb603f8e159f",
   "metadata": {},
   "source": [
    "## Remove duplicates in DataFrame"
   ]
  },
  {
   "cell_type": "code",
   "execution_count": 30,
   "id": "93888de3-cf55-411a-abeb-11bd7facceae",
   "metadata": {},
   "outputs": [],
   "source": [
    "df.drop_duplicates(inplace=True)"
   ]
  },
  {
   "cell_type": "markdown",
   "id": "c8339c50-a080-49b8-9e6a-de29bb2249cd",
   "metadata": {},
   "source": [
    "## Generate frequent itemsets"
   ]
  },
  {
   "cell_type": "code",
   "execution_count": 31,
   "id": "d0f63933-eee5-4f7e-8045-afe6e8bdb9d5",
   "metadata": {},
   "outputs": [
    {
     "data": {
      "text/html": [
       "<div>\n",
       "<style scoped>\n",
       "    .dataframe tbody tr th:only-of-type {\n",
       "        vertical-align: middle;\n",
       "    }\n",
       "\n",
       "    .dataframe tbody tr th {\n",
       "        vertical-align: top;\n",
       "    }\n",
       "\n",
       "    .dataframe thead th {\n",
       "        text-align: right;\n",
       "    }\n",
       "</style>\n",
       "<table border=\"1\" class=\"dataframe\">\n",
       "  <thead>\n",
       "    <tr style=\"text-align: right;\">\n",
       "      <th></th>\n",
       "      <th>support</th>\n",
       "      <th>itemsets</th>\n",
       "    </tr>\n",
       "  </thead>\n",
       "  <tbody>\n",
       "    <tr>\n",
       "      <th>0</th>\n",
       "      <td>0.383383</td>\n",
       "      <td>(Apple)</td>\n",
       "    </tr>\n",
       "    <tr>\n",
       "      <th>1</th>\n",
       "      <td>0.384384</td>\n",
       "      <td>(Bread)</td>\n",
       "    </tr>\n",
       "    <tr>\n",
       "      <th>2</th>\n",
       "      <td>0.420420</td>\n",
       "      <td>(Butter)</td>\n",
       "    </tr>\n",
       "    <tr>\n",
       "      <th>3</th>\n",
       "      <td>0.404404</td>\n",
       "      <td>(Cheese)</td>\n",
       "    </tr>\n",
       "    <tr>\n",
       "      <th>4</th>\n",
       "      <td>0.407407</td>\n",
       "      <td>(Corn)</td>\n",
       "    </tr>\n",
       "    <tr>\n",
       "      <th>...</th>\n",
       "      <td>...</td>\n",
       "      <td>...</td>\n",
       "    </tr>\n",
       "    <tr>\n",
       "      <th>164</th>\n",
       "      <td>0.101101</td>\n",
       "      <td>(Nutmeg, chocolate, Ice cream)</td>\n",
       "    </tr>\n",
       "    <tr>\n",
       "      <th>165</th>\n",
       "      <td>0.101101</td>\n",
       "      <td>(Onion, chocolate, Ice cream)</td>\n",
       "    </tr>\n",
       "    <tr>\n",
       "      <th>166</th>\n",
       "      <td>0.100100</td>\n",
       "      <td>(Nutmeg, Kidney Beans, Milk)</td>\n",
       "    </tr>\n",
       "    <tr>\n",
       "      <th>167</th>\n",
       "      <td>0.101101</td>\n",
       "      <td>(Nutmeg, Kidney Beans, Yogurt)</td>\n",
       "    </tr>\n",
       "    <tr>\n",
       "      <th>168</th>\n",
       "      <td>0.104104</td>\n",
       "      <td>(chocolate, Milk, Yogurt)</td>\n",
       "    </tr>\n",
       "  </tbody>\n",
       "</table>\n",
       "<p>169 rows × 2 columns</p>\n",
       "</div>"
      ],
      "text/plain": [
       "      support                        itemsets\n",
       "0    0.383383                         (Apple)\n",
       "1    0.384384                         (Bread)\n",
       "2    0.420420                        (Butter)\n",
       "3    0.404404                        (Cheese)\n",
       "4    0.407407                          (Corn)\n",
       "..        ...                             ...\n",
       "164  0.101101  (Nutmeg, chocolate, Ice cream)\n",
       "165  0.101101   (Onion, chocolate, Ice cream)\n",
       "166  0.100100    (Nutmeg, Kidney Beans, Milk)\n",
       "167  0.101101  (Nutmeg, Kidney Beans, Yogurt)\n",
       "168  0.104104       (chocolate, Milk, Yogurt)\n",
       "\n",
       "[169 rows x 2 columns]"
      ]
     },
     "execution_count": 31,
     "metadata": {},
     "output_type": "execute_result"
    }
   ],
   "source": [
    "frequent_itemsets = apriori(df.iloc[:, 1:], min_support=0.1, use_colnames=True)\n",
    "frequent_itemsets "
   ]
  },
  {
   "cell_type": "markdown",
   "id": "d5003de2-d427-4b8b-93d6-21681dbbebd3",
   "metadata": {},
   "source": [
    "## Generate association rules"
   ]
  },
  {
   "cell_type": "code",
   "execution_count": 32,
   "id": "0d64b874-fafe-4bbe-9cee-5a5c012806d4",
   "metadata": {},
   "outputs": [
    {
     "data": {
      "text/html": [
       "<div>\n",
       "<style scoped>\n",
       "    .dataframe tbody tr th:only-of-type {\n",
       "        vertical-align: middle;\n",
       "    }\n",
       "\n",
       "    .dataframe tbody tr th {\n",
       "        vertical-align: top;\n",
       "    }\n",
       "\n",
       "    .dataframe thead th {\n",
       "        text-align: right;\n",
       "    }\n",
       "</style>\n",
       "<table border=\"1\" class=\"dataframe\">\n",
       "  <thead>\n",
       "    <tr style=\"text-align: right;\">\n",
       "      <th></th>\n",
       "      <th>antecedents</th>\n",
       "      <th>consequents</th>\n",
       "      <th>antecedent support</th>\n",
       "      <th>consequent support</th>\n",
       "      <th>support</th>\n",
       "      <th>confidence</th>\n",
       "      <th>lift</th>\n",
       "      <th>leverage</th>\n",
       "      <th>conviction</th>\n",
       "      <th>zhangs_metric</th>\n",
       "    </tr>\n",
       "  </thead>\n",
       "  <tbody>\n",
       "    <tr>\n",
       "      <th>0</th>\n",
       "      <td>(Bread)</td>\n",
       "      <td>(Apple)</td>\n",
       "      <td>0.384384</td>\n",
       "      <td>0.383383</td>\n",
       "      <td>0.154154</td>\n",
       "      <td>0.401042</td>\n",
       "      <td>1.046059</td>\n",
       "      <td>0.006788</td>\n",
       "      <td>1.029482</td>\n",
       "      <td>0.071524</td>\n",
       "    </tr>\n",
       "    <tr>\n",
       "      <th>1</th>\n",
       "      <td>(Apple)</td>\n",
       "      <td>(Bread)</td>\n",
       "      <td>0.383383</td>\n",
       "      <td>0.384384</td>\n",
       "      <td>0.154154</td>\n",
       "      <td>0.402089</td>\n",
       "      <td>1.046059</td>\n",
       "      <td>0.006788</td>\n",
       "      <td>1.029610</td>\n",
       "      <td>0.071407</td>\n",
       "    </tr>\n",
       "    <tr>\n",
       "      <th>2</th>\n",
       "      <td>(Apple)</td>\n",
       "      <td>(Butter)</td>\n",
       "      <td>0.383383</td>\n",
       "      <td>0.420420</td>\n",
       "      <td>0.188188</td>\n",
       "      <td>0.490862</td>\n",
       "      <td>1.167549</td>\n",
       "      <td>0.027006</td>\n",
       "      <td>1.138354</td>\n",
       "      <td>0.232730</td>\n",
       "    </tr>\n",
       "    <tr>\n",
       "      <th>3</th>\n",
       "      <td>(Butter)</td>\n",
       "      <td>(Apple)</td>\n",
       "      <td>0.420420</td>\n",
       "      <td>0.383383</td>\n",
       "      <td>0.188188</td>\n",
       "      <td>0.447619</td>\n",
       "      <td>1.167549</td>\n",
       "      <td>0.027006</td>\n",
       "      <td>1.116289</td>\n",
       "      <td>0.247602</td>\n",
       "    </tr>\n",
       "    <tr>\n",
       "      <th>4</th>\n",
       "      <td>(Apple)</td>\n",
       "      <td>(Cheese)</td>\n",
       "      <td>0.383383</td>\n",
       "      <td>0.404404</td>\n",
       "      <td>0.162162</td>\n",
       "      <td>0.422977</td>\n",
       "      <td>1.045925</td>\n",
       "      <td>0.007120</td>\n",
       "      <td>1.032186</td>\n",
       "      <td>0.071208</td>\n",
       "    </tr>\n",
       "    <tr>\n",
       "      <th>...</th>\n",
       "      <td>...</td>\n",
       "      <td>...</td>\n",
       "      <td>...</td>\n",
       "      <td>...</td>\n",
       "      <td>...</td>\n",
       "      <td>...</td>\n",
       "      <td>...</td>\n",
       "      <td>...</td>\n",
       "      <td>...</td>\n",
       "      <td>...</td>\n",
       "    </tr>\n",
       "    <tr>\n",
       "      <th>431</th>\n",
       "      <td>(chocolate, Yogurt)</td>\n",
       "      <td>(Milk)</td>\n",
       "      <td>0.198198</td>\n",
       "      <td>0.405405</td>\n",
       "      <td>0.104104</td>\n",
       "      <td>0.525253</td>\n",
       "      <td>1.295623</td>\n",
       "      <td>0.023753</td>\n",
       "      <td>1.252444</td>\n",
       "      <td>0.284572</td>\n",
       "    </tr>\n",
       "    <tr>\n",
       "      <th>432</th>\n",
       "      <td>(Milk, Yogurt)</td>\n",
       "      <td>(chocolate)</td>\n",
       "      <td>0.190190</td>\n",
       "      <td>0.421421</td>\n",
       "      <td>0.104104</td>\n",
       "      <td>0.547368</td>\n",
       "      <td>1.298862</td>\n",
       "      <td>0.023954</td>\n",
       "      <td>1.278255</td>\n",
       "      <td>0.284135</td>\n",
       "    </tr>\n",
       "    <tr>\n",
       "      <th>433</th>\n",
       "      <td>(chocolate)</td>\n",
       "      <td>(Milk, Yogurt)</td>\n",
       "      <td>0.421421</td>\n",
       "      <td>0.190190</td>\n",
       "      <td>0.104104</td>\n",
       "      <td>0.247031</td>\n",
       "      <td>1.298862</td>\n",
       "      <td>0.023954</td>\n",
       "      <td>1.075489</td>\n",
       "      <td>0.397691</td>\n",
       "    </tr>\n",
       "    <tr>\n",
       "      <th>434</th>\n",
       "      <td>(Milk)</td>\n",
       "      <td>(chocolate, Yogurt)</td>\n",
       "      <td>0.405405</td>\n",
       "      <td>0.198198</td>\n",
       "      <td>0.104104</td>\n",
       "      <td>0.256790</td>\n",
       "      <td>1.295623</td>\n",
       "      <td>0.023753</td>\n",
       "      <td>1.078836</td>\n",
       "      <td>0.383741</td>\n",
       "    </tr>\n",
       "    <tr>\n",
       "      <th>435</th>\n",
       "      <td>(Yogurt)</td>\n",
       "      <td>(chocolate, Milk)</td>\n",
       "      <td>0.420420</td>\n",
       "      <td>0.211211</td>\n",
       "      <td>0.104104</td>\n",
       "      <td>0.247619</td>\n",
       "      <td>1.172376</td>\n",
       "      <td>0.015307</td>\n",
       "      <td>1.048390</td>\n",
       "      <td>0.253687</td>\n",
       "    </tr>\n",
       "  </tbody>\n",
       "</table>\n",
       "<p>436 rows × 10 columns</p>\n",
       "</div>"
      ],
      "text/plain": [
       "             antecedents          consequents  antecedent support  \\\n",
       "0                (Bread)              (Apple)            0.384384   \n",
       "1                (Apple)              (Bread)            0.383383   \n",
       "2                (Apple)             (Butter)            0.383383   \n",
       "3               (Butter)              (Apple)            0.420420   \n",
       "4                (Apple)             (Cheese)            0.383383   \n",
       "..                   ...                  ...                 ...   \n",
       "431  (chocolate, Yogurt)               (Milk)            0.198198   \n",
       "432       (Milk, Yogurt)          (chocolate)            0.190190   \n",
       "433          (chocolate)       (Milk, Yogurt)            0.421421   \n",
       "434               (Milk)  (chocolate, Yogurt)            0.405405   \n",
       "435             (Yogurt)    (chocolate, Milk)            0.420420   \n",
       "\n",
       "     consequent support   support  confidence      lift  leverage  conviction  \\\n",
       "0              0.383383  0.154154    0.401042  1.046059  0.006788    1.029482   \n",
       "1              0.384384  0.154154    0.402089  1.046059  0.006788    1.029610   \n",
       "2              0.420420  0.188188    0.490862  1.167549  0.027006    1.138354   \n",
       "3              0.383383  0.188188    0.447619  1.167549  0.027006    1.116289   \n",
       "4              0.404404  0.162162    0.422977  1.045925  0.007120    1.032186   \n",
       "..                  ...       ...         ...       ...       ...         ...   \n",
       "431            0.405405  0.104104    0.525253  1.295623  0.023753    1.252444   \n",
       "432            0.421421  0.104104    0.547368  1.298862  0.023954    1.278255   \n",
       "433            0.190190  0.104104    0.247031  1.298862  0.023954    1.075489   \n",
       "434            0.198198  0.104104    0.256790  1.295623  0.023753    1.078836   \n",
       "435            0.211211  0.104104    0.247619  1.172376  0.015307    1.048390   \n",
       "\n",
       "     zhangs_metric  \n",
       "0         0.071524  \n",
       "1         0.071407  \n",
       "2         0.232730  \n",
       "3         0.247602  \n",
       "4         0.071208  \n",
       "..             ...  \n",
       "431       0.284572  \n",
       "432       0.284135  \n",
       "433       0.397691  \n",
       "434       0.383741  \n",
       "435       0.253687  \n",
       "\n",
       "[436 rows x 10 columns]"
      ]
     },
     "execution_count": 32,
     "metadata": {},
     "output_type": "execute_result"
    }
   ],
   "source": [
    "rules = association_rules(frequent_itemsets, metric=\"lift\", min_threshold=1)\n",
    "rules"
   ]
  },
  {
   "cell_type": "markdown",
   "id": "5b8b6eb9-4cf3-4e20-a433-af06b63438f2",
   "metadata": {},
   "source": [
    "## Histogram for support vs confidence"
   ]
  },
  {
   "cell_type": "code",
   "execution_count": 33,
   "id": "9afd7efe-d3e0-4934-976a-ac580538f418",
   "metadata": {},
   "outputs": [
    {
     "data": {
      "image/png": "[encoded data removed]",
      "text/plain": [
       "<Figure size 640x480 with 2 Axes>"
      ]
     },
     "metadata": {},
     "output_type": "display_data"
    }
   ],
   "source": [
    "rules[['support', 'confidence']].hist()\n",
    "plt.show()"
   ]
  },
  {
   "cell_type": "markdown",
   "id": "a3800a3e-6947-4273-b717-5889f968fe41",
   "metadata": {},
   "source": [
    "## Scatter plot for support vs confidence"
   ]
  },
  {
   "cell_type": "code",
   "execution_count": 34,
   "id": "8f2ae11b-b327-4c33-8dfc-8a6e685dc80a",
   "metadata": {},
   "outputs": [
    {
     "data": {
      "image/png": "[encoded data removed]",
      "text/plain": [
       "<Figure size 1000x600 with 1 Axes>"
      ]
     },
     "metadata": {},
     "output_type": "display_data"
    }
   ],
   "source": [
    "plt.figure(figsize=(10, 6))\n",
    "plt.scatter(rules['support'], rules['confidence'], alpha=0.5)\n",
    "plt.xlabel('Support')\n",
    "plt.ylabel('Confidence')\n",
    "plt.title('Support vs Confidence')\n",
    "plt.show()"
   ]
  },
  {
   "cell_type": "markdown",
   "id": "82468f02-c0b5-4bfa-ab28-684ef73d2a7e",
   "metadata": {},
   "source": [
    "## Metrics and Visualizations"
   ]
  },
  {
   "cell_type": "markdown",
   "id": "2a532f9f-bf6c-40c5-8c92-8c2d801c6289",
   "metadata": {},
   "source": [
    "Histogram:\n",
    "- Support Histogram: Shows the frequency distribution of the support values for the association rules which is around 200\n",
    "- Confidence Histogram: Shows the frequency distribution of the confidence values for the association rules which is above 100\n",
    "\n",
    "Support vs Confidence Scatter Plot:\n",
    "- The scatter plot shows the relationship between support and confidence, highlighting rules with strong and reliable patterns."
   ]
  },
  {
   "cell_type": "markdown",
   "id": "ddaefaf4-2e31-4749-8477-08259b5028fc",
   "metadata": {},
   "source": [
    "## Key Findings:"
   ]
  },
  {
   "cell_type": "markdown",
   "id": "c8ca5e06-28fb-4bbb-8220-71f22e3bb933",
   "metadata": {},
   "source": [
    "- Identified frequent itemsets and strong association rules that can inform product placement strategies.\n",
    "- Visualizations provided clear insights into the distribution of support and confidence metrics, aiding in understanding rule reliability.\n",
    "- The support values indicate how frequently itemsets occur together, with a noticeable distribution across different levels.\n",
    "- Confidence values demonstrate the strength of the relationships between antecedents and consequents in the rules."
   ]
  },
  {
   "cell_type": "markdown",
   "id": "15468080-9b75-4609-9b60-8105e1ecdbed",
   "metadata": {},
   "source": [
    "## Effectiveness"
   ]
  },
  {
   "cell_type": "markdown",
   "id": "48664348-4e6d-4764-a9a1-4ea77f8d48f9",
   "metadata": {},
   "source": [
    "- The association rule mining analysis on the Market Basket Analysis dataset provided valuable insights into customer purchasing behavior. By leveraging strong association rules, businesses can optimize strategies to enhance customer experience and increase sales effectively."
   ]
  }
 ],
 "metadata": {
  "kernelspec": {
   "display_name": "Python 3 (ipykernel)",
   "language": "python",
   "name": "python3"
  },
  "language_info": {
   "codemirror_mode": {
    "name": "ipython",
    "version": 3
   },
   "file_extension": ".py",
   "mimetype": "text/x-python",
   "name": "python",
   "nbconvert_exporter": "python",
   "pygments_lexer": "ipython3",
   "version": "3.11.5"
  }
 },
 "nbformat": 4,
 "nbformat_minor": 5
}
