{
 "cells": [
  {
   "cell_type": "markdown",
   "id": "68ad7fe1-c9ae-4c1f-9dbd-4457c554ecc0",
   "metadata": {},
   "source": [
    "# Recommendation System Assignment | IMDB Top 250 Movies Dataset"
   ]
  },
  {
   "cell_type": "markdown",
   "id": "4e5c327c-6b46-483e-9a16-d2e0af269cef",
   "metadata": {},
   "source": [
    "## Import Libraries"
   ]
  },
  {
   "cell_type": "code",
   "execution_count": 34,
   "id": "b6eea2ba-12bb-44d5-bccb-d237474f95fa",
   "metadata": {},
   "outputs": [],
   "source": [
    "import numpy as np\n",
    "import pandas as pd\n",
    "from sklearn.metrics.pairwise import cosine_similarity\n",
    "from sklearn.feature_extraction.text import TfidfVectorizer"
   ]
  },
  {
   "cell_type": "markdown",
   "id": "26d6d4c7-0b26-4719-8857-1c7cd8dadca0",
   "metadata": {},
   "source": [
    "## Load the Dataset"
   ]
  },
  {
   "cell_type": "code",
   "execution_count": 35,
   "id": "a21ef9f1-b15e-4ad5-a878-596535246987",
   "metadata": {},
   "outputs": [
    {
     "data": {
      "text/html": [
       "<div>\n",
       "<style scoped>\n",
       "    .dataframe tbody tr th:only-of-type {\n",
       "        vertical-align: middle;\n",
       "    }\n",
       "\n",
       "    .dataframe tbody tr th {\n",
       "        vertical-align: top;\n",
       "    }\n",
       "\n",
       "    .dataframe thead th {\n",
       "        text-align: right;\n",
       "    }\n",
       "</style>\n",
       "<table border=\"1\" class=\"dataframe\">\n",
       "  <thead>\n",
       "    <tr style=\"text-align: right;\">\n",
       "      <th></th>\n",
       "      <th>rank</th>\n",
       "      <th>movie_id</th>\n",
       "      <th>title</th>\n",
       "      <th>year</th>\n",
       "      <th>link</th>\n",
       "      <th>imbd_votes</th>\n",
       "      <th>imbd_rating</th>\n",
       "      <th>certificate</th>\n",
       "      <th>duration</th>\n",
       "      <th>genre</th>\n",
       "      <th>...</th>\n",
       "      <th>director_id</th>\n",
       "      <th>director_name</th>\n",
       "      <th>writer_id</th>\n",
       "      <th>writer_name</th>\n",
       "      <th>storyline</th>\n",
       "      <th>user_id</th>\n",
       "      <th>user_name</th>\n",
       "      <th>review_id</th>\n",
       "      <th>review_title</th>\n",
       "      <th>review_content</th>\n",
       "    </tr>\n",
       "  </thead>\n",
       "  <tbody>\n",
       "    <tr>\n",
       "      <th>0</th>\n",
       "      <td>1</td>\n",
       "      <td>tt0111161</td>\n",
       "      <td>The Shawshank Redemption</td>\n",
       "      <td>1994</td>\n",
       "      <td>https://www.imdb.com/title/tt0111161</td>\n",
       "      <td>2,711,075</td>\n",
       "      <td>9.3</td>\n",
       "      <td>R</td>\n",
       "      <td>2h 22m</td>\n",
       "      <td>Drama</td>\n",
       "      <td>...</td>\n",
       "      <td>nm0001104</td>\n",
       "      <td>Frank Darabont</td>\n",
       "      <td>nm0000175,nm0001104</td>\n",
       "      <td>Stephen King,Frank Darabont</td>\n",
       "      <td>Over the course of several years, two convicts...</td>\n",
       "      <td>ur16161013,ur15311310,ur0265899,ur16117882,ur1...</td>\n",
       "      <td>hitchcockthelegend,Sleepin_Dragon,EyeDunno,ale...</td>\n",
       "      <td>rw2284594,rw6606154,rw1221355,rw1822343,rw1288...</td>\n",
       "      <td>Some birds aren't meant to be caged.,An incred...</td>\n",
       "      <td>The Shawshank Redemption is written and direct...</td>\n",
       "    </tr>\n",
       "    <tr>\n",
       "      <th>1</th>\n",
       "      <td>2</td>\n",
       "      <td>tt0068646</td>\n",
       "      <td>The Godfather</td>\n",
       "      <td>1972</td>\n",
       "      <td>https://www.imdb.com/title/tt0068646</td>\n",
       "      <td>1,882,829</td>\n",
       "      <td>9.2</td>\n",
       "      <td>R</td>\n",
       "      <td>2h 55m</td>\n",
       "      <td>Crime,Drama</td>\n",
       "      <td>...</td>\n",
       "      <td>nm0000338</td>\n",
       "      <td>Francis Ford Coppola</td>\n",
       "      <td>nm0701374,nm0000338</td>\n",
       "      <td>Mario Puzo,Francis Ford Coppola</td>\n",
       "      <td>The aging patriarch of an organized crime dyna...</td>\n",
       "      <td>ur24740649,ur86182727,ur15794099,ur15311310,ur...</td>\n",
       "      <td>CalRhys,andrewburgereviews,gogoschka-1,Sleepin...</td>\n",
       "      <td>rw3038370,rw4756923,rw4059579,rw6568526,rw1897...</td>\n",
       "      <td>The Pinnacle Of Flawless Films!,An offer so go...</td>\n",
       "      <td>'The Godfather' is the pinnacle of flawless fi...</td>\n",
       "    </tr>\n",
       "    <tr>\n",
       "      <th>2</th>\n",
       "      <td>3</td>\n",
       "      <td>tt0468569</td>\n",
       "      <td>The Dark Knight</td>\n",
       "      <td>2008</td>\n",
       "      <td>https://www.imdb.com/title/tt0468569</td>\n",
       "      <td>2,684,051</td>\n",
       "      <td>9.0</td>\n",
       "      <td>PG-13</td>\n",
       "      <td>2h 32m</td>\n",
       "      <td>Action,Crime,Drama</td>\n",
       "      <td>...</td>\n",
       "      <td>nm0634240</td>\n",
       "      <td>Christopher Nolan</td>\n",
       "      <td>tt0468569,nm0634300,nm0634240,nm0275286,tt0468569</td>\n",
       "      <td>Writers,Jonathan Nolan,Christopher Nolan,David...</td>\n",
       "      <td>When the menace known as the Joker wreaks havo...</td>\n",
       "      <td>ur87850731,ur1293485,ur129557514,ur12449122,ur...</td>\n",
       "      <td>MrHeraclius,Smells_Like_Cheese,dseferaj,little...</td>\n",
       "      <td>rw5478826,rw1914442,rw6606026,rw1917099,rw5170...</td>\n",
       "      <td>The Dark Knight,The Batman of our dreams! So m...</td>\n",
       "      <td>Confidently directed, dark, brooding, and pack...</td>\n",
       "    </tr>\n",
       "    <tr>\n",
       "      <th>3</th>\n",
       "      <td>4</td>\n",
       "      <td>tt0071562</td>\n",
       "      <td>The Godfather Part II</td>\n",
       "      <td>1974</td>\n",
       "      <td>https://www.imdb.com/title/tt0071562</td>\n",
       "      <td>1,285,350</td>\n",
       "      <td>9.0</td>\n",
       "      <td>R</td>\n",
       "      <td>3h 22m</td>\n",
       "      <td>Crime,Drama</td>\n",
       "      <td>...</td>\n",
       "      <td>nm0000338</td>\n",
       "      <td>Francis Ford Coppola</td>\n",
       "      <td>nm0000338,nm0701374</td>\n",
       "      <td>Francis Ford Coppola,Mario Puzo</td>\n",
       "      <td>The early life and career of Vito Corleone in ...</td>\n",
       "      <td>ur0176092,ur0688559,ur92260614,ur0200644,ur117...</td>\n",
       "      <td>Nazi_Fighter_David,tfrizzell,umunir-36959,DanB...</td>\n",
       "      <td>rw0135607,rw0135487,rw5049900,rw0135526,rw0135...</td>\n",
       "      <td>Breathtaking in its scope and tragic grandeur....</td>\n",
       "      <td>Coppola's masterpiece is rivaled only by \"The ...</td>\n",
       "    </tr>\n",
       "    <tr>\n",
       "      <th>4</th>\n",
       "      <td>5</td>\n",
       "      <td>tt0050083</td>\n",
       "      <td>12 Angry Men</td>\n",
       "      <td>1957</td>\n",
       "      <td>https://www.imdb.com/title/tt0050083</td>\n",
       "      <td>800,954</td>\n",
       "      <td>9.0</td>\n",
       "      <td>Approved</td>\n",
       "      <td>1h 36m</td>\n",
       "      <td>Crime,Drama</td>\n",
       "      <td>...</td>\n",
       "      <td>nm0001486</td>\n",
       "      <td>Sidney Lumet</td>\n",
       "      <td>nm0741627</td>\n",
       "      <td>Reginald Rose</td>\n",
       "      <td>The jury in a New York City murder trial is fr...</td>\n",
       "      <td>ur1318549,ur0643062,ur0688559,ur20552756,ur945...</td>\n",
       "      <td>uds3,tedg,tfrizzell,TheLittleSongbird,henrique...</td>\n",
       "      <td>rw0060044,rw0060025,rw0060034,rw2262425,rw5448...</td>\n",
       "      <td>The over-used term \"classic movie\" really come...</td>\n",
       "      <td>This once-in-a-generation masterpiece simply h...</td>\n",
       "    </tr>\n",
       "  </tbody>\n",
       "</table>\n",
       "<p>5 rows × 22 columns</p>\n",
       "</div>"
      ],
      "text/plain": [
       "   rank   movie_id                     title  year  \\\n",
       "0     1  tt0111161  The Shawshank Redemption  1994   \n",
       "1     2  tt0068646             The Godfather  1972   \n",
       "2     3  tt0468569           The Dark Knight  2008   \n",
       "3     4  tt0071562     The Godfather Part II  1974   \n",
       "4     5  tt0050083              12 Angry Men  1957   \n",
       "\n",
       "                                   link imbd_votes  imbd_rating certificate  \\\n",
       "0  https://www.imdb.com/title/tt0111161  2,711,075          9.3           R   \n",
       "1  https://www.imdb.com/title/tt0068646  1,882,829          9.2           R   \n",
       "2  https://www.imdb.com/title/tt0468569  2,684,051          9.0       PG-13   \n",
       "3  https://www.imdb.com/title/tt0071562  1,285,350          9.0           R   \n",
       "4  https://www.imdb.com/title/tt0050083    800,954          9.0    Approved   \n",
       "\n",
       "  duration               genre  ... director_id         director_name  \\\n",
       "0   2h 22m               Drama  ...   nm0001104        Frank Darabont   \n",
       "1   2h 55m         Crime,Drama  ...   nm0000338  Francis Ford Coppola   \n",
       "2   2h 32m  Action,Crime,Drama  ...   nm0634240     Christopher Nolan   \n",
       "3   3h 22m         Crime,Drama  ...   nm0000338  Francis Ford Coppola   \n",
       "4   1h 36m         Crime,Drama  ...   nm0001486          Sidney Lumet   \n",
       "\n",
       "                                           writer_id  \\\n",
       "0                                nm0000175,nm0001104   \n",
       "1                                nm0701374,nm0000338   \n",
       "2  tt0468569,nm0634300,nm0634240,nm0275286,tt0468569   \n",
       "3                                nm0000338,nm0701374   \n",
       "4                                          nm0741627   \n",
       "\n",
       "                                         writer_name  \\\n",
       "0                        Stephen King,Frank Darabont   \n",
       "1                    Mario Puzo,Francis Ford Coppola   \n",
       "2  Writers,Jonathan Nolan,Christopher Nolan,David...   \n",
       "3                    Francis Ford Coppola,Mario Puzo   \n",
       "4                                      Reginald Rose   \n",
       "\n",
       "                                           storyline  \\\n",
       "0  Over the course of several years, two convicts...   \n",
       "1  The aging patriarch of an organized crime dyna...   \n",
       "2  When the menace known as the Joker wreaks havo...   \n",
       "3  The early life and career of Vito Corleone in ...   \n",
       "4  The jury in a New York City murder trial is fr...   \n",
       "\n",
       "                                             user_id  \\\n",
       "0  ur16161013,ur15311310,ur0265899,ur16117882,ur1...   \n",
       "1  ur24740649,ur86182727,ur15794099,ur15311310,ur...   \n",
       "2  ur87850731,ur1293485,ur129557514,ur12449122,ur...   \n",
       "3  ur0176092,ur0688559,ur92260614,ur0200644,ur117...   \n",
       "4  ur1318549,ur0643062,ur0688559,ur20552756,ur945...   \n",
       "\n",
       "                                           user_name  \\\n",
       "0  hitchcockthelegend,Sleepin_Dragon,EyeDunno,ale...   \n",
       "1  CalRhys,andrewburgereviews,gogoschka-1,Sleepin...   \n",
       "2  MrHeraclius,Smells_Like_Cheese,dseferaj,little...   \n",
       "3  Nazi_Fighter_David,tfrizzell,umunir-36959,DanB...   \n",
       "4  uds3,tedg,tfrizzell,TheLittleSongbird,henrique...   \n",
       "\n",
       "                                           review_id  \\\n",
       "0  rw2284594,rw6606154,rw1221355,rw1822343,rw1288...   \n",
       "1  rw3038370,rw4756923,rw4059579,rw6568526,rw1897...   \n",
       "2  rw5478826,rw1914442,rw6606026,rw1917099,rw5170...   \n",
       "3  rw0135607,rw0135487,rw5049900,rw0135526,rw0135...   \n",
       "4  rw0060044,rw0060025,rw0060034,rw2262425,rw5448...   \n",
       "\n",
       "                                        review_title  \\\n",
       "0  Some birds aren't meant to be caged.,An incred...   \n",
       "1  The Pinnacle Of Flawless Films!,An offer so go...   \n",
       "2  The Dark Knight,The Batman of our dreams! So m...   \n",
       "3  Breathtaking in its scope and tragic grandeur....   \n",
       "4  The over-used term \"classic movie\" really come...   \n",
       "\n",
       "                                      review_content  \n",
       "0  The Shawshank Redemption is written and direct...  \n",
       "1  'The Godfather' is the pinnacle of flawless fi...  \n",
       "2  Confidently directed, dark, brooding, and pack...  \n",
       "3  Coppola's masterpiece is rivaled only by \"The ...  \n",
       "4  This once-in-a-generation masterpiece simply h...  \n",
       "\n",
       "[5 rows x 22 columns]"
      ]
     },
     "execution_count": 35,
     "metadata": {},
     "output_type": "execute_result"
    }
   ],
   "source": [
    "df = pd.read_csv(r\"C:\\Ozy\\Data Science\\DS datasets\\movies.csv\")\n",
    "df.head()"
   ]
  },
  {
   "cell_type": "markdown",
   "id": "66cb2154-162b-477f-abb5-7715c266dc8c",
   "metadata": {},
   "source": [
    "## Basic Information of Dataset"
   ]
  },
  {
   "cell_type": "code",
   "execution_count": 36,
   "id": "a45821b9-8b24-4f4d-952a-7821fbe94ff8",
   "metadata": {},
   "outputs": [
    {
     "name": "stdout",
     "output_type": "stream",
     "text": [
      "<class 'pandas.core.frame.DataFrame'>\n",
      "RangeIndex: 250 entries, 0 to 249\n",
      "Data columns (total 22 columns):\n",
      " #   Column          Non-Null Count  Dtype  \n",
      "---  ------          --------------  -----  \n",
      " 0   rank            250 non-null    int64  \n",
      " 1   movie_id        250 non-null    object \n",
      " 2   title           250 non-null    object \n",
      " 3   year            250 non-null    int64  \n",
      " 4   link            250 non-null    object \n",
      " 5   imbd_votes      250 non-null    object \n",
      " 6   imbd_rating     250 non-null    float64\n",
      " 7   certificate     249 non-null    object \n",
      " 8   duration        250 non-null    object \n",
      " 9   genre           250 non-null    object \n",
      " 10  cast_id         250 non-null    object \n",
      " 11  cast_name       250 non-null    object \n",
      " 12  director_id     250 non-null    object \n",
      " 13  director_name   250 non-null    object \n",
      " 14  writer_id       250 non-null    object \n",
      " 15  writer_name     250 non-null    object \n",
      " 16  storyline       250 non-null    object \n",
      " 17  user_id         250 non-null    object \n",
      " 18  user_name       250 non-null    object \n",
      " 19  review_id       250 non-null    object \n",
      " 20  review_title    250 non-null    object \n",
      " 21  review_content  250 non-null    object \n",
      "dtypes: float64(1), int64(2), object(19)\n",
      "memory usage: 43.1+ KB\n"
     ]
    }
   ],
   "source": [
    "df.info()"
   ]
  },
  {
   "cell_type": "markdown",
   "id": "8bbcceb6-ccb9-4a62-9f9e-7185bf00fcd5",
   "metadata": {},
   "source": [
    "## Create the Recommendation Model\n",
    "\n",
    "### We will use a content-based filtering approach, focusing on the genre and IMDB ratings."
   ]
  },
  {
   "cell_type": "code",
   "execution_count": 37,
   "id": "245b4860-448e-422c-8aa9-6eb59fa92c75",
   "metadata": {},
   "outputs": [],
   "source": [
    "# Combine relevant features into a single string\n",
    "df['features'] = df['genre'] + ' ' + df['imbd_rating'].astype(str)"
   ]
  },
  {
   "cell_type": "markdown",
   "id": "7cc7b383-8624-4150-bafe-4344349d85b5",
   "metadata": {},
   "source": [
    "## Initialize the TF-IDF Vectorizer"
   ]
  },
  {
   "cell_type": "code",
   "execution_count": 38,
   "id": "05779a49-3a3d-4bc2-ba1b-474db291a67a",
   "metadata": {},
   "outputs": [],
   "source": [
    "tfidf_vectorizer = TfidfVectorizer()"
   ]
  },
  {
   "cell_type": "markdown",
   "id": "913488b5-2d98-43e4-a327-b90ba2454fcb",
   "metadata": {},
   "source": [
    "## Transform the combined features into a TF-IDF matrix"
   ]
  },
  {
   "cell_type": "code",
   "execution_count": 39,
   "id": "f065f8fc-3d5b-423d-968f-9dc9f27cc0ce",
   "metadata": {},
   "outputs": [],
   "source": [
    "tfidf_matrix = tfidf_vectorizer.fit_transform(df['features'])"
   ]
  },
  {
   "cell_type": "markdown",
   "id": "d91da8fa-5e38-4a12-840a-6c26b040c486",
   "metadata": {},
   "source": [
    "## Calculate cosine similarity between the movies"
   ]
  },
  {
   "cell_type": "code",
   "execution_count": 40,
   "id": "43749875-e88b-422d-a8ea-f23865dc3bef",
   "metadata": {},
   "outputs": [
    {
     "data": {
      "text/plain": [
       "array([[1.        , 0.46272942, 0.34511079, ..., 0.        , 0.25123808,\n",
       "        0.2566824 ],\n",
       "       [0.46272942, 1.        , 0.74581553, ..., 0.        , 0.11625525,\n",
       "        0.1187745 ],\n",
       "       [0.34511079, 0.74581553, 1.        , ..., 0.        , 0.08670497,\n",
       "        0.08858386],\n",
       "       ...,\n",
       "       [0.        , 0.        , 0.        , ..., 1.        , 0.        ,\n",
       "        0.22589745],\n",
       "       [0.25123808, 0.11625525, 0.08670497, ..., 0.        , 1.        ,\n",
       "        0.06448839],\n",
       "       [0.2566824 , 0.1187745 , 0.08858386, ..., 0.22589745, 0.06448839,\n",
       "        1.        ]])"
      ]
     },
     "execution_count": 40,
     "metadata": {},
     "output_type": "execute_result"
    }
   ],
   "source": [
    "cosine_sim = cosine_similarity(tfidf_matrix, tfidf_matrix)\n",
    "cosine_sim"
   ]
  },
  {
   "cell_type": "markdown",
   "id": "77108594-eb24-46a3-b88c-d304bb7ac080",
   "metadata": {},
   "source": [
    "## Function to get movie recommendations based on title"
   ]
  },
  {
   "cell_type": "code",
   "execution_count": 41,
   "id": "4564ab90-1307-4e39-a5d9-9746a13c7736",
   "metadata": {},
   "outputs": [],
   "source": [
    "def get_recommendations(title, cosine_sim=cosine_sim):\n",
    "    # Get the index of the movie that matches the title\n",
    "    idx = df.index[df['title'] == title][0]\n",
    "    \n",
    "    # Get the pairwise similarity scores of all movies with that movie\n",
    "    sim_scores = list(enumerate(cosine_sim[idx]))\n",
    "    \n",
    "    # Sort the movies based on the similarity scores\n",
    "    sim_scores = sorted(sim_scores, key=lambda x: x[1], reverse=True)\n",
    "    \n",
    "    # Get the scores of the 10 most similar movies\n",
    "    sim_scores = sim_scores[1:11]\n",
    "    \n",
    "    # Get the movie indices\n",
    "    movie_indices = [i[0] for i in sim_scores]\n",
    "    \n",
    "    # Return the top 10 most similar movies\n",
    "    return df['title'].iloc[movie_indices]"
   ]
  },
  {
   "cell_type": "markdown",
   "id": "5de7a901-e3cb-49d8-abce-301a24d6f379",
   "metadata": {},
   "source": [
    "- Combine relevant features into a single string.\n",
    "- Use the TF-IDF vectorizer to transform these features into a matrix of TF-IDF features.\n",
    "- Calculate the cosine similarity between these TF-IDF matrices.\n",
    "- Define a function get_recommendations that takes a movie title as input and returns the top 10 most similar movies based on cosine similarity scores."
   ]
  },
  {
   "cell_type": "markdown",
   "id": "2b3a6d21-abef-45de-875c-d946bf81626f",
   "metadata": {},
   "source": [
    " ## Test the recommendation function"
   ]
  },
  {
   "cell_type": "code",
   "execution_count": 42,
   "id": "c539ba06-d095-4fb7-99fa-15ad37dac2a0",
   "metadata": {},
   "outputs": [
    {
     "data": {
      "text/plain": [
       "11                          Fight Club\n",
       "17     One Flew Over the Cuckoo's Nest\n",
       "66                     American Beauty\n",
       "84                 Requiem for a Dream\n",
       "87                           Capernaum\n",
       "93                            The Hunt\n",
       "98                               Ikiru\n",
       "113                       A Separation\n",
       "120                    Bicycle Thieves\n",
       "130                      All About Eve\n",
       "Name: title, dtype: object"
      ]
     },
     "execution_count": 42,
     "metadata": {},
     "output_type": "execute_result"
    }
   ],
   "source": [
    "get_recommendations('The Shawshank Redemption')"
   ]
  },
  {
   "cell_type": "markdown",
   "id": "b830e3ab-d281-4ff7-92e8-2c49347388f4",
   "metadata": {},
   "source": [
    "- This basic recommendation system uses content-based filtering to suggest movies similar to a given movie title. "
   ]
  }
 ],
 "metadata": {
  "kernelspec": {
   "display_name": "Python 3 (ipykernel)",
   "language": "python",
   "name": "python3"
  },
  "language_info": {
   "codemirror_mode": {
    "name": "ipython",
    "version": 3
   },
   "file_extension": ".py",
   "mimetype": "text/x-python",
   "name": "python",
   "nbconvert_exporter": "python",
   "pygments_lexer": "ipython3",
   "version": "3.11.5"
  }
 },
 "nbformat": 4,
 "nbformat_minor": 5
}
